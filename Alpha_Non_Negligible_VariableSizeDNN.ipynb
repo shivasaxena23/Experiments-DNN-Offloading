{
  "nbformat": 4,
  "nbformat_minor": 0,
  "metadata": {
    "colab": {
      "name": "Alpha_Non-Negligible_VariableSizeDNN.ipynb",
      "provenance": [],
      "collapsed_sections": [],
      "authorship_tag": "ABX9TyMnj3+oRC+HmKrZF2ErikYy",
      "include_colab_link": true
    },
    "kernelspec": {
      "name": "python3",
      "display_name": "Python 3"
    }
  },
  "cells": [
    {
      "cell_type": "markdown",
      "metadata": {
        "id": "view-in-github",
        "colab_type": "text"
      },
      "source": [
        "<a href=\"https://colab.research.google.com/github/shivasaxena23/Experiments-DNN-Offloading/blob/main/Alpha_Non_Negligible_VariableSizeDNN.ipynb\" target=\"_parent\"><img src=\"https://colab.research.google.com/assets/colab-badge.svg\" alt=\"Open In Colab\"/></a>"
      ]
    },
    {
      "cell_type": "code",
      "metadata": {
        "id": "lVH74b3PJJZA"
      },
      "source": [
        "import numpy as np\n",
        "import matplotlib.pyplot as plt"
      ],
      "execution_count": 1,
      "outputs": []
    },
    {
      "cell_type": "code",
      "metadata": {
        "id": "IndUwZuiJJZA"
      },
      "source": [
        "import random\n",
        "import math"
      ],
      "execution_count": 2,
      "outputs": []
    },
    {
      "cell_type": "code",
      "metadata": {
        "id": "l7qOUDMMJJZA"
      },
      "source": [
        "def randComm(x,t=0):\n",
        "    r = random.random()\n",
        "    r = r + t*(1-r)\n",
        "    return r*x"
      ],
      "execution_count": 3,
      "outputs": []
    },
    {
      "cell_type": "code",
      "metadata": {
        "id": "xts5djp1JJZA"
      },
      "source": [
        "def randCommTwoWay(x,t=0):\n",
        "    r = random.random()\n",
        "    return x/2+r*(x)"
      ],
      "execution_count": 4,
      "outputs": []
    },
    {
      "cell_type": "code",
      "metadata": {
        "id": "APQ39KLZJJZB"
      },
      "source": [
        "def randCommTwoWayExt(x,t=0):\n",
        "    r = random.random()\n",
        "    return x/4+r*(3*x/2)"
      ],
      "execution_count": 5,
      "outputs": []
    },
    {
      "cell_type": "code",
      "metadata": {
        "id": "NI-CSHfKJJZB"
      },
      "source": [
        "def randCommTwoWayExt2(x,t=0):\n",
        "    r = random.random()\n",
        "    return x/8+r*(7*x/4)"
      ],
      "execution_count": 6,
      "outputs": []
    },
    {
      "cell_type": "code",
      "metadata": {
        "id": "ZX439uG2JJZB"
      },
      "source": [
        "comm = 16.384\n",
        "#comm = 14.90"
      ],
      "execution_count": 7,
      "outputs": []
    },
    {
      "cell_type": "markdown",
      "metadata": {
        "id": "YkoRB4DlJJZB"
      },
      "source": [
        "One Way Communication and One Way Computation "
      ]
    },
    {
      "cell_type": "code",
      "metadata": {
        "id": "qFY3iwzkJJZB"
      },
      "source": [
        "rho_avg = []\n",
        "rho_avg_min = []\n",
        "rho_worst = []\n",
        "rho_worst_min = []\n",
        "\n",
        "rho_median = []\n",
        "rho_60 = []\n",
        "rho_70 = []\n",
        "rho_80 = []\n"
      ],
      "execution_count": 8,
      "outputs": []
    },
    {
      "cell_type": "code",
      "metadata": {
        "id": "tSnAxa83JJZB"
      },
      "source": [
        "checker_alpha = []\n",
        "checker_comp = []\n",
        "checker_comm = []"
      ],
      "execution_count": 9,
      "outputs": []
    },
    {
      "cell_type": "code",
      "metadata": {
        "id": "yyEU-bsaJJZB"
      },
      "source": [
        "Topt_total = []\n",
        "Talg_total = []"
      ],
      "execution_count": 10,
      "outputs": []
    },
    {
      "cell_type": "code",
      "metadata": {
        "id": "oW3wZSMDSduD"
      },
      "source": [
        "rho_matrix = []"
      ],
      "execution_count": 12,
      "outputs": []
    },
    {
      "cell_type": "code",
      "metadata": {
        "colab": {
          "base_uri": "https://localhost:8080/"
        },
        "id": "ynmlOcSDJJZB",
        "outputId": "91a84698-07d7-489b-ffb3-811a49980d9b"
      },
      "source": [
        "a = [1,2,3]\n",
        "b = [2,3,4]\n",
        "np.dot(a[3:],b[3:])\n",
        "b[:1]\n"
      ],
      "execution_count": 11,
      "outputs": [
        {
          "output_type": "execute_result",
          "data": {
            "text/plain": [
              "[2]"
            ]
          },
          "metadata": {
            "tags": []
          },
          "execution_count": 11
        }
      ]
    },
    {
      "cell_type": "markdown",
      "metadata": {
        "id": "0gdKFJ5lJJZC"
      },
      "source": [
        "All Alpha conditions"
      ]
    },
    {
      "cell_type": "code",
      "metadata": {
        "colab": {
          "base_uri": "https://localhost:8080/"
        },
        "id": "-zAwoUgAsVt5",
        "outputId": "e649ead2-8cb9-4ad3-9aca-caa1bc53a3a7"
      },
      "source": [
        "for length in range(5,30,5):\n",
        "    rho_worst_min = []\n",
        "    for comm in range(1,400):\n",
        "        if comm%40 == 0:\n",
        "          print(comm)\n",
        "        rho_min = []\n",
        "        for r in range(10000):\n",
        "            current_comm = randComm(comm)\n",
        "            current_comps = []\n",
        "            current_comms = []\n",
        "            Topt_vec = []\n",
        "            Talg_vec = []\n",
        "            #current_comp_uniform = [1+math.floor(4*random.random()),1+math.floor(4*random.random()),1+math.floor(4*random.random()),1+math.floor(4*random.random()),1+math.floor(4*random.random())]\n",
        "            #current_comp_uniform = [1+math.floor(16*random.random()),1+math.floor(16*random.random()),1+math.floor(16*random.random()),1+math.floor(16*random.random()),1+math.floor(16*random.random())]\n",
        "            #current_comp_uniform = [1+math.floor(64*random.random()),1+math.floor(64*random.random()),1+math.floor(64*random.random()),1+math.floor(64*random.random()),1+math.floor(64*random.random())]\n",
        "            current_comms_uniform = []\n",
        "            current_comp_uniform = [1+randComm(20) for i in range(length)]\n",
        "            #current_alpha_uniform = [0.5+random.random()/2,0.5+random.random()/2,0.5+random.random()/2,0.5+random.random()/2,0.5+random.random()/2]\n",
        "            current_alpha_uniform = [random.random() for i in range(length)]\n",
        "            min_alpha = min(current_alpha_uniform)\n",
        "            \n",
        "            #Get comm latencies\n",
        "            for l in range(len(current_comp_uniform)):\n",
        "                if l == 0:\n",
        "                    current_comms_uniform.append(comm)\n",
        "                else:\n",
        "                    current_comms_uniform.append(randComm(current_comms_uniform[l-1]))\n",
        "            current_comms_uniform.append(0)\n",
        "            \n",
        "            #ALG\n",
        "            \n",
        "            best_min = comm\n",
        "            i = 0\n",
        "            comms_counter = 1\n",
        "            best_point_min = 0\n",
        "            for l in current_comp_uniform:\n",
        "\n",
        "                current_comp = l\n",
        "                current_comm = current_comms_uniform[comms_counter]\n",
        "                \n",
        "                current_comps.append(current_comp)\n",
        "                current_comms.append(current_comm)\n",
        "\n",
        "                if (1-min_alpha)*sum(current_comps) + current_comm < best_min:\n",
        "                    best_point_min = i+1\n",
        "                    best_min = (1-min_alpha)*sum(current_comps) + current_comm\n",
        "\n",
        "                i = i + 1\n",
        "                comms_counter = comms_counter + 1\n",
        "            \n",
        "            if best_point_min != length and best_point_min != 0:\n",
        "                Talg_min = sum(current_comps[:best_point_min]) + current_comms[best_point_min-1] + np.dot(current_alpha_uniform[best_point_min:],current_comp_uniform[best_point_min:])\n",
        "            elif best_point_min == 0:\n",
        "                Talg_min = current_comms_uniform[0] + np.dot(current_alpha_uniform[best_point_min:],current_comp_uniform[best_point_min:])\n",
        "            elif best_point_min == length:\n",
        "                Talg_min = sum(current_comps[:best_point_min])\n",
        "                \n",
        "            current_comps_temp = current_comps\n",
        "            current_comms_temp = current_comms\n",
        "            \n",
        "            alg_best_point = best_point_min\n",
        "            \n",
        "            #OPT\n",
        "            \n",
        "            current_comps = []\n",
        "            current_comms = []\n",
        "            \n",
        "            best = current_comms_uniform[0] + np.dot(current_alpha_uniform,current_comp_uniform)\n",
        "            i = 0\n",
        "            comms_counter = 1\n",
        "            best_point = 0\n",
        "            for l in current_comp_uniform:\n",
        "\n",
        "                    \n",
        "                current_comp = l\n",
        "                current_comm = current_comms_uniform[comms_counter]\n",
        "                \n",
        "                current_comps.append(current_comp)\n",
        "                current_comms.append(current_comm)\n",
        "                \n",
        "                if sum(current_comps) + current_comm + np.dot(current_alpha_uniform[comms_counter:],current_comp_uniform[comms_counter:]) < best:\n",
        "                    best_point = i+1\n",
        "                    best = sum(current_comps) + current_comm + np.dot(current_alpha_uniform[comms_counter:],current_comp_uniform[comms_counter:])\n",
        "            \n",
        "                i = i + 1\n",
        "                comms_counter = comms_counter + 1\n",
        "            \n",
        "            if best_point != length and best_point != 0:\n",
        "                Topt = sum(current_comps[:best_point]) + current_comms[best_point-1] + np.dot(current_alpha_uniform[best_point:],current_comp_uniform[best_point:])\n",
        "            elif best_point == 0:\n",
        "                Topt = current_comms_uniform[0] + np.dot(current_alpha_uniform[best_point:],current_comp_uniform[best_point:])\n",
        "            elif best_point == length:\n",
        "                Topt = sum(current_comps[:best_point])\n",
        "            \n",
        "            opt_best_point = best_point\n",
        "            \n",
        "            if current_comps != current_comps_temp:\n",
        "                print(current_comps,current_comps_temp)\n",
        "            \n",
        "            if current_comms != current_comms_temp:\n",
        "                print(current_comms,current_comms_temp)\n",
        "            \n",
        "            if opt_best_point < alg_best_point:\n",
        "                print (\"failed point\",opt_best_point,alg_best_point)\n",
        "            \n",
        "            if Talg_min < Topt:\n",
        "                print (\"failed makespan\",Topt,Talg_min,opt_best_point,alg_best_point)\n",
        "                checker_alpha.append(current_alpha_uniform)\n",
        "                checker_comp.append(current_comp_uniform)\n",
        "                checker_comm.append(current_comms_uniform)\n",
        "            \n",
        "            if (Talg_min/Topt) > 2:\n",
        "                print (\"failed proof\",Topt,Talg_min,opt_best_point,alg_best_point)\n",
        "            \n",
        "            rho_min.append(Talg_min/Topt)\n",
        "            '''\n",
        "            Topt_vec.append(Topt)\n",
        "            Talg_vec.append(Talg_min)\n",
        "            #print(Talg,Topt,i,comm,best)\n",
        "            '''\n",
        "            \n",
        "        rho_worst_min.append(np.max(rho_min))\n",
        "        rho_avg_min.append(np.mean(rho_min))\n",
        "\n",
        "        '''\n",
        "        rho_avg.append(np.mean(rho))\n",
        "        rho_median.append(np.median(rho))\n",
        "        rho_60.append(np.percentile(rho,60))\n",
        "        rho_70.append(np.percentile(rho,70))\n",
        "        rho_80.append(np.percentile(rho,80))\n",
        "        Topt_total.append(np.mean(Topt_vec))\n",
        "        Talg_total.append(np.mean(Talg_vec))\n",
        "        '''\n",
        "    rho_matrix.append(rho_worst_min)"
      ],
      "execution_count": 13,
      "outputs": [
        {
          "output_type": "stream",
          "text": [
            "40\n",
            "80\n",
            "120\n",
            "160\n",
            "200\n",
            "240\n",
            "280\n",
            "320\n",
            "360\n",
            "40\n",
            "80\n",
            "120\n",
            "160\n",
            "200\n",
            "240\n",
            "280\n",
            "320\n",
            "360\n",
            "40\n",
            "80\n",
            "120\n",
            "160\n",
            "200\n",
            "240\n",
            "280\n",
            "320\n",
            "360\n",
            "40\n",
            "80\n",
            "120\n",
            "160\n",
            "200\n",
            "240\n",
            "280\n",
            "320\n",
            "360\n",
            "40\n",
            "80\n",
            "120\n",
            "160\n",
            "200\n",
            "240\n",
            "280\n",
            "320\n",
            "360\n"
          ],
          "name": "stdout"
        }
      ]
    },
    {
      "cell_type": "code",
      "metadata": {
        "colab": {
          "base_uri": "https://localhost:8080/"
        },
        "id": "hGMIz-MAeFe5",
        "outputId": "f06a6e12-19cf-45a2-c603-e3a7e593bede"
      },
      "source": [
        "np.array(rho_matrix).shape"
      ],
      "execution_count": 14,
      "outputs": [
        {
          "output_type": "execute_result",
          "data": {
            "text/plain": [
              "(5, 399)"
            ]
          },
          "metadata": {
            "tags": []
          },
          "execution_count": 14
        }
      ]
    },
    {
      "cell_type": "code",
      "metadata": {
        "id": "rVgV0VeNpcUO"
      },
      "source": [
        "with open('Alpha-Experiment-Non_Negligible-5.npy', 'wb') as f:\n",
        "  np.save(f,np.array(rho_matrix))"
      ],
      "execution_count": 15,
      "outputs": []
    },
    {
      "cell_type": "code",
      "metadata": {
        "id": "XSOIg7zG7Wl2"
      },
      "source": [
        "with open('Alpha-Experiment-Non_Negligible-5.npy', 'rb') as f:\n",
        "  matrix = np.load(f)"
      ],
      "execution_count": 16,
      "outputs": []
    },
    {
      "cell_type": "code",
      "metadata": {
        "colab": {
          "base_uri": "https://localhost:8080/"
        },
        "id": "lEqRKB2veY-1",
        "outputId": "18730015-5205-4a7f-cb7d-e920edd4d799"
      },
      "source": [
        "matrix.shape"
      ],
      "execution_count": 18,
      "outputs": [
        {
          "output_type": "execute_result",
          "data": {
            "text/plain": [
              "(5, 399)"
            ]
          },
          "metadata": {
            "tags": []
          },
          "execution_count": 18
        }
      ]
    },
    {
      "cell_type": "code",
      "metadata": {
        "colab": {
          "base_uri": "https://localhost:8080/",
          "height": 297
        },
        "id": "jXizqAVP_Nsa",
        "outputId": "e7d6a8ef-d87d-4111-dd52-8ea20d9bf584"
      },
      "source": [
        "#1\n",
        "plt.plot(range(1,400),rho_matrix[0],label=\"5 Layers\")\n",
        "plt.plot(range(1,400),rho_matrix[1],label=\"10 Layers\")\n",
        "plt.plot(range(1,400),rho_matrix[2],label=\"15 Layers\")\n",
        "plt.plot(range(1,400),rho_matrix[3],label=\"20 Layers\")\n",
        "plt.plot(range(1,400),rho_matrix[4],label=\"25 Layers\")\n",
        "\n",
        "plt.legend()\n",
        "plt.xlabel(\"Starting Communication Latency 10^-4 secs\")\n",
        "plt.ylabel(\"Competitive Ratio\")\n"
      ],
      "execution_count": 19,
      "outputs": [
        {
          "output_type": "execute_result",
          "data": {
            "text/plain": [
              "Text(0, 0.5, 'Competitive Ratio')"
            ]
          },
          "metadata": {
            "tags": []
          },
          "execution_count": 19
        },
        {
          "output_type": "display_data",
          "data": {
            "image/png": "[encoded data removed]",
            "text/plain": [
              "<Figure size 432x288 with 1 Axes>"
            ]
          },
          "metadata": {
            "tags": [],
            "needs_background": "light"
          }
        }
      ]
    },
    {
      "cell_type": "code",
      "metadata": {
        "colab": {
          "base_uri": "https://localhost:8080/"
        },
        "id": "Z0M9_YtSfCus",
        "outputId": "0e7f9381-b5ef-4797-8505-6069ee56785f"
      },
      "source": [
        "for i in rho_matrix:\n",
        "  print(np.max(i))"
      ],
      "execution_count": 20,
      "outputs": [
        {
          "output_type": "stream",
          "text": [
            "1.8035045335132347\n",
            "1.6619875242219486\n",
            "1.5707500653705202\n",
            "1.4818085280180802\n",
            "1.4540021875100209\n"
          ],
          "name": "stdout"
        }
      ]
    },
    {
      "cell_type": "code",
      "metadata": {
        "id": "FoP3k3DGfGFo"
      },
      "source": [
        ""
      ],
      "execution_count": null,
      "outputs": []
    }
  ]
}