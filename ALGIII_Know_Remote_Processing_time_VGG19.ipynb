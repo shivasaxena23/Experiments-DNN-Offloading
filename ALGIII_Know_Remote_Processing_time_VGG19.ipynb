{
  "nbformat": 4,
  "nbformat_minor": 0,
  "metadata": {
    "colab": {
      "name": "ALGIII-Know Remote Processing time VGG19.ipynb",
      "provenance": [],
      "collapsed_sections": [],
      "authorship_tag": "ABX9TyMviuzP8xzbPIVkJmddfaYn",
      "include_colab_link": true
    },
    "kernelspec": {
      "name": "python3",
      "display_name": "Python 3"
    },
    "language_info": {
      "name": "python"
    }
  },
  "cells": [
    {
      "cell_type": "markdown",
      "metadata": {
        "id": "view-in-github",
        "colab_type": "text"
      },
      "source": [
        "<a href=\"https://colab.research.google.com/github/shivasaxena23/Experiments-DNN-Offloading/blob/main/ALGIII_Know_Remote_Processing_time_VGG19.ipynb\" target=\"_parent\"><img src=\"https://colab.research.google.com/assets/colab-badge.svg\" alt=\"Open In Colab\"/></a>"
      ]
    },
    {
      "cell_type": "markdown",
      "metadata": {
        "id": "Xi7hjUWr0Jtu"
      },
      "source": [
        "Randomized algorithm"
      ]
    },
    {
      "cell_type": "code",
      "metadata": {
        "colab": {
          "base_uri": "https://localhost:8080/"
        },
        "id": "PxHVjbStBjeU",
        "outputId": "eeaa0677-50bf-4ff4-8b10-f79723109956"
      },
      "source": [
        "!pip install dataframe-image"
      ],
      "execution_count": null,
      "outputs": [
        {
          "output_type": "stream",
          "text": [
            "Collecting dataframe-image\n",
            "  Downloading https://files.pythonhosted.org/packages/75/ce/8b9f506ecf5b177471e0f04117565b6eaf83f13749deca3d3b35f52f9fd6/dataframe_image-0.1.1-py3-none-any.whl\n",
            "Requirement already satisfied: matplotlib>=3.1 in /usr/local/lib/python3.7/dist-packages (from dataframe-image) (3.2.2)\n",
            "Requirement already satisfied: requests in /usr/local/lib/python3.7/dist-packages (from dataframe-image) (2.23.0)\n",
            "Requirement already satisfied: pandas>=0.24 in /usr/local/lib/python3.7/dist-packages (from dataframe-image) (1.1.5)\n",
            "Requirement already satisfied: beautifulsoup4 in /usr/local/lib/python3.7/dist-packages (from dataframe-image) (4.6.3)\n",
            "Requirement already satisfied: nbconvert>=5 in /usr/local/lib/python3.7/dist-packages (from dataframe-image) (5.6.1)\n",
            "Collecting aiohttp\n",
            "\u001b[?25l  Downloading https://files.pythonhosted.org/packages/88/c0/5890b4c8b04a79b7360e8fe4490feb0bb3ab179743f199f0e6220cebd568/aiohttp-3.7.4.post0-cp37-cp37m-manylinux2014_x86_64.whl (1.3MB)\n",
            "\u001b[K     |████████████████████████████████| 1.3MB 6.8MB/s \n",
            "\u001b[?25hRequirement already satisfied: kiwisolver>=1.0.1 in /usr/local/lib/python3.7/dist-packages (from matplotlib>=3.1->dataframe-image) (1.3.1)\n",
            "Requirement already satisfied: pyparsing!=2.0.4,!=2.1.2,!=2.1.6,>=2.0.1 in /usr/local/lib/python3.7/dist-packages (from matplotlib>=3.1->dataframe-image) (2.4.7)\n",
            "Requirement already satisfied: python-dateutil>=2.1 in /usr/local/lib/python3.7/dist-packages (from matplotlib>=3.1->dataframe-image) (2.8.1)\n",
            "Requirement already satisfied: numpy>=1.11 in /usr/local/lib/python3.7/dist-packages (from matplotlib>=3.1->dataframe-image) (1.19.5)\n",
            "Requirement already satisfied: cycler>=0.10 in /usr/local/lib/python3.7/dist-packages (from matplotlib>=3.1->dataframe-image) (0.10.0)\n",
            "Requirement already satisfied: idna<3,>=2.5 in /usr/local/lib/python3.7/dist-packages (from requests->dataframe-image) (2.10)\n",
            "Requirement already satisfied: urllib3!=1.25.0,!=1.25.1,<1.26,>=1.21.1 in /usr/local/lib/python3.7/dist-packages (from requests->dataframe-image) (1.24.3)\n",
            "Requirement already satisfied: chardet<4,>=3.0.2 in /usr/local/lib/python3.7/dist-packages (from requests->dataframe-image) (3.0.4)\n",
            "Requirement already satisfied: certifi>=2017.4.17 in /usr/local/lib/python3.7/dist-packages (from requests->dataframe-image) (2021.5.30)\n",
            "Requirement already satisfied: pytz>=2017.2 in /usr/local/lib/python3.7/dist-packages (from pandas>=0.24->dataframe-image) (2018.9)\n",
            "Requirement already satisfied: jupyter-core in /usr/local/lib/python3.7/dist-packages (from nbconvert>=5->dataframe-image) (4.7.1)\n",
            "Requirement already satisfied: testpath in /usr/local/lib/python3.7/dist-packages (from nbconvert>=5->dataframe-image) (0.5.0)\n",
            "Requirement already satisfied: pygments in /usr/local/lib/python3.7/dist-packages (from nbconvert>=5->dataframe-image) (2.6.1)\n",
            "Requirement already satisfied: defusedxml in /usr/local/lib/python3.7/dist-packages (from nbconvert>=5->dataframe-image) (0.7.1)\n",
            "Requirement already satisfied: bleach in /usr/local/lib/python3.7/dist-packages (from nbconvert>=5->dataframe-image) (3.3.0)\n",
            "Requirement already satisfied: entrypoints>=0.2.2 in /usr/local/lib/python3.7/dist-packages (from nbconvert>=5->dataframe-image) (0.3)\n",
            "Requirement already satisfied: traitlets>=4.2 in /usr/local/lib/python3.7/dist-packages (from nbconvert>=5->dataframe-image) (5.0.5)\n",
            "Requirement already satisfied: jinja2>=2.4 in /usr/local/lib/python3.7/dist-packages (from nbconvert>=5->dataframe-image) (2.11.3)\n",
            "Requirement already satisfied: pandocfilters>=1.4.1 in /usr/local/lib/python3.7/dist-packages (from nbconvert>=5->dataframe-image) (1.4.3)\n",
            "Requirement already satisfied: nbformat>=4.4 in /usr/local/lib/python3.7/dist-packages (from nbconvert>=5->dataframe-image) (5.1.3)\n",
            "Requirement already satisfied: mistune<2,>=0.8.1 in /usr/local/lib/python3.7/dist-packages (from nbconvert>=5->dataframe-image) (0.8.4)\n",
            "Requirement already satisfied: typing-extensions>=3.6.5 in /usr/local/lib/python3.7/dist-packages (from aiohttp->dataframe-image) (3.7.4.3)\n",
            "Collecting async-timeout<4.0,>=3.0\n",
            "  Downloading https://files.pythonhosted.org/packages/e1/1e/5a4441be21b0726c4464f3f23c8b19628372f606755a9d2e46c187e65ec4/async_timeout-3.0.1-py3-none-any.whl\n",
            "Requirement already satisfied: attrs>=17.3.0 in /usr/local/lib/python3.7/dist-packages (from aiohttp->dataframe-image) (21.2.0)\n",
            "Collecting yarl<2.0,>=1.0\n",
            "\u001b[?25l  Downloading https://files.pythonhosted.org/packages/f1/62/046834c5fc998c88ab2ef722f5d42122230a632212c8afa76418324f53ff/yarl-1.6.3-cp37-cp37m-manylinux2014_x86_64.whl (294kB)\n",
            "\u001b[K     |████████████████████████████████| 296kB 39.3MB/s \n",
            "\u001b[?25hCollecting multidict<7.0,>=4.5\n",
            "\u001b[?25l  Downloading https://files.pythonhosted.org/packages/7c/a6/4123b8165acbe773d1a8dc8e3f0d1edea16d29f7de018eda769abb56bd30/multidict-5.1.0-cp37-cp37m-manylinux2014_x86_64.whl (142kB)\n",
            "\u001b[K     |████████████████████████████████| 143kB 38.8MB/s \n",
            "\u001b[?25hRequirement already satisfied: six>=1.5 in /usr/local/lib/python3.7/dist-packages (from python-dateutil>=2.1->matplotlib>=3.1->dataframe-image) (1.15.0)\n",
            "Requirement already satisfied: webencodings in /usr/local/lib/python3.7/dist-packages (from bleach->nbconvert>=5->dataframe-image) (0.5.1)\n",
            "Requirement already satisfied: packaging in /usr/local/lib/python3.7/dist-packages (from bleach->nbconvert>=5->dataframe-image) (20.9)\n",
            "Requirement already satisfied: ipython-genutils in /usr/local/lib/python3.7/dist-packages (from traitlets>=4.2->nbconvert>=5->dataframe-image) (0.2.0)\n",
            "Requirement already satisfied: MarkupSafe>=0.23 in /usr/local/lib/python3.7/dist-packages (from jinja2>=2.4->nbconvert>=5->dataframe-image) (2.0.1)\n",
            "Requirement already satisfied: jsonschema!=2.5.0,>=2.4 in /usr/local/lib/python3.7/dist-packages (from nbformat>=4.4->nbconvert>=5->dataframe-image) (2.6.0)\n",
            "Installing collected packages: async-timeout, multidict, yarl, aiohttp, dataframe-image\n",
            "Successfully installed aiohttp-3.7.4.post0 async-timeout-3.0.1 dataframe-image-0.1.1 multidict-5.1.0 yarl-1.6.3\n"
          ],
          "name": "stdout"
        }
      ]
    },
    {
      "cell_type": "code",
      "metadata": {
        "id": "VpDNi4BkZW6D"
      },
      "source": [
        "import numpy as np\n",
        "import matplotlib.pyplot as plt\n",
        "import seaborn as sns\n",
        "import pandas as pd\n",
        "import random\n",
        "import math"
      ],
      "execution_count": 1,
      "outputs": []
    },
    {
      "cell_type": "code",
      "metadata": {
        "id": "12NLnRmuZs6t"
      },
      "source": [
        "with open('vgg19_compute_values (1).npy', 'rb') as f:\n",
        "  vgg16_compute_values = np.load(f)"
      ],
      "execution_count": 2,
      "outputs": []
    },
    {
      "cell_type": "code",
      "metadata": {
        "colab": {
          "base_uri": "https://localhost:8080/"
        },
        "id": "vG3-6nG2Z4H6",
        "outputId": "f483442c-359b-48e9-ba13-bab7a1679559"
      },
      "source": [
        "vgg16_compute_values.shape"
      ],
      "execution_count": 3,
      "outputs": [
        {
          "output_type": "execute_result",
          "data": {
            "text/plain": [
              "(23539, 19)"
            ]
          },
          "metadata": {},
          "execution_count": 3
        }
      ]
    },
    {
      "cell_type": "code",
      "metadata": {
        "colab": {
          "base_uri": "https://localhost:8080/"
        },
        "id": "PVwfiWFPZ4kE",
        "outputId": "e4600de9-5a0d-476a-f4e8-5a61f63bfb70"
      },
      "source": [
        "vgg16_compute_values[0]"
      ],
      "execution_count": 4,
      "outputs": [
        {
          "output_type": "execute_result",
          "data": {
            "text/plain": [
              "array([0.03391266, 0.00308251, 0.00077176, 0.00025868, 0.00016093,\n",
              "       0.00021362, 0.00014138, 0.00016761, 0.00015068, 0.00014281,\n",
              "       0.00013471, 0.00039506, 0.00034285, 0.00031734, 0.00033474,\n",
              "       0.00038338, 0.02665401, 0.00036669, 0.00018716])"
            ]
          },
          "metadata": {},
          "execution_count": 4
        }
      ]
    },
    {
      "cell_type": "code",
      "metadata": {
        "id": "AbB7EdvOc_O_"
      },
      "source": [
        "vgg16_compute_values_remote = vgg16_compute_values[20:10000,:]"
      ],
      "execution_count": 5,
      "outputs": []
    },
    {
      "cell_type": "code",
      "metadata": {
        "id": "Da6KRr2UNC7r"
      },
      "source": [
        "vgg16_compute_values_remote_expected = np.mean(vgg16_compute_values_remote,axis=0)"
      ],
      "execution_count": 6,
      "outputs": []
    },
    {
      "cell_type": "code",
      "metadata": {
        "id": "WAqWVOqSZ58W"
      },
      "source": [
        "vgg16_compute_values_local_array = []\n",
        "vgg16_compute_values_local_array.append(vgg16_compute_values_remote*(1+2*random.random()))\n",
        "vgg16_compute_values_local_array.append(vgg16_compute_values_remote*(3+2*random.random()))\n",
        "vgg16_compute_values_local_array.append(vgg16_compute_values_remote*(7+2*random.random()))\n",
        "vgg16_compute_values_local_array.append(vgg16_compute_values_remote*(15+2*random.random()))\n",
        "vgg16_compute_values_local_array.append(vgg16_compute_values_remote*(4*random.random()))\n",
        "vgg16_compute_values_local_array.append(vgg16_compute_values_remote*(2+4*random.random()))"
      ],
      "execution_count": 7,
      "outputs": []
    },
    {
      "cell_type": "code",
      "metadata": {
        "id": "w2_g_kVyNXM-"
      },
      "source": [
        "pd_vgg16_table = pd.DataFrame()"
      ],
      "execution_count": 8,
      "outputs": []
    },
    {
      "cell_type": "code",
      "metadata": {
        "id": "93UqPDfpN2mK"
      },
      "source": [
        "pd_vgg16_table['Remote'] = vgg16_compute_values_remote_expected\n",
        "pd_vgg16_table['Device2'] = np.mean(vgg16_compute_values_local_array[0],axis=0)\n",
        "pd_vgg16_table['Device4'] = np.mean(vgg16_compute_values_local_array[1],axis=0)\n",
        "pd_vgg16_table['Device8'] = np.mean(vgg16_compute_values_local_array[2],axis=0)\n",
        "pd_vgg16_table['Device16'] = np.mean(vgg16_compute_values_local_array[3],axis=0)\n",
        "pd_vgg16_table['Device2r'] = np.mean(vgg16_compute_values_local_array[4],axis=0)\n",
        "pd_vgg16_table['Device4r'] = np.mean(vgg16_compute_values_local_array[5],axis=0)"
      ],
      "execution_count": 9,
      "outputs": []
    },
    {
      "cell_type": "code",
      "metadata": {
        "colab": {
          "base_uri": "https://localhost:8080/",
          "height": 638
        },
        "id": "07dsUIv7OI87",
        "outputId": "03cabcd3-23b4-4d87-fd91-0f3f5c08328e"
      },
      "source": [
        "pd_vgg16_table"
      ],
      "execution_count": 10,
      "outputs": [
        {
          "output_type": "execute_result",
          "data": {
            "text/html": [
              "<div>\n",
              "<style scoped>\n",
              "    .dataframe tbody tr th:only-of-type {\n",
              "        vertical-align: middle;\n",
              "    }\n",
              "\n",
              "    .dataframe tbody tr th {\n",
              "        vertical-align: top;\n",
              "    }\n",
              "\n",
              "    .dataframe thead th {\n",
              "        text-align: right;\n",
              "    }\n",
              "</style>\n",
              "<table border=\"1\" class=\"dataframe\">\n",
              "  <thead>\n",
              "    <tr style=\"text-align: right;\">\n",
              "      <th></th>\n",
              "      <th>Remote</th>\n",
              "      <th>Device2</th>\n",
              "      <th>Device4</th>\n",
              "      <th>Device8</th>\n",
              "      <th>Device16</th>\n",
              "      <th>Device2r</th>\n",
              "      <th>Device4r</th>\n",
              "    </tr>\n",
              "  </thead>\n",
              "  <tbody>\n",
              "    <tr>\n",
              "      <th>0</th>\n",
              "      <td>0.000160</td>\n",
              "      <td>0.000479</td>\n",
              "      <td>0.000656</td>\n",
              "      <td>0.001158</td>\n",
              "      <td>0.002694</td>\n",
              "      <td>0.000174</td>\n",
              "      <td>0.000777</td>\n",
              "    </tr>\n",
              "    <tr>\n",
              "      <th>1</th>\n",
              "      <td>0.000151</td>\n",
              "      <td>0.000451</td>\n",
              "      <td>0.000617</td>\n",
              "      <td>0.001090</td>\n",
              "      <td>0.002537</td>\n",
              "      <td>0.000164</td>\n",
              "      <td>0.000732</td>\n",
              "    </tr>\n",
              "    <tr>\n",
              "      <th>2</th>\n",
              "      <td>0.000131</td>\n",
              "      <td>0.000392</td>\n",
              "      <td>0.000536</td>\n",
              "      <td>0.000947</td>\n",
              "      <td>0.002203</td>\n",
              "      <td>0.000143</td>\n",
              "      <td>0.000636</td>\n",
              "    </tr>\n",
              "    <tr>\n",
              "      <th>3</th>\n",
              "      <td>0.000138</td>\n",
              "      <td>0.000413</td>\n",
              "      <td>0.000566</td>\n",
              "      <td>0.000999</td>\n",
              "      <td>0.002325</td>\n",
              "      <td>0.000151</td>\n",
              "      <td>0.000671</td>\n",
              "    </tr>\n",
              "    <tr>\n",
              "      <th>4</th>\n",
              "      <td>0.000109</td>\n",
              "      <td>0.000327</td>\n",
              "      <td>0.000448</td>\n",
              "      <td>0.000790</td>\n",
              "      <td>0.001839</td>\n",
              "      <td>0.000119</td>\n",
              "      <td>0.000531</td>\n",
              "    </tr>\n",
              "    <tr>\n",
              "      <th>5</th>\n",
              "      <td>0.000104</td>\n",
              "      <td>0.000311</td>\n",
              "      <td>0.000426</td>\n",
              "      <td>0.000751</td>\n",
              "      <td>0.001749</td>\n",
              "      <td>0.000113</td>\n",
              "      <td>0.000505</td>\n",
              "    </tr>\n",
              "    <tr>\n",
              "      <th>6</th>\n",
              "      <td>0.000100</td>\n",
              "      <td>0.000298</td>\n",
              "      <td>0.000408</td>\n",
              "      <td>0.000721</td>\n",
              "      <td>0.001678</td>\n",
              "      <td>0.000109</td>\n",
              "      <td>0.000484</td>\n",
              "    </tr>\n",
              "    <tr>\n",
              "      <th>7</th>\n",
              "      <td>0.000130</td>\n",
              "      <td>0.000390</td>\n",
              "      <td>0.000534</td>\n",
              "      <td>0.000943</td>\n",
              "      <td>0.002195</td>\n",
              "      <td>0.000142</td>\n",
              "      <td>0.000633</td>\n",
              "    </tr>\n",
              "    <tr>\n",
              "      <th>8</th>\n",
              "      <td>0.000105</td>\n",
              "      <td>0.000314</td>\n",
              "      <td>0.000429</td>\n",
              "      <td>0.000758</td>\n",
              "      <td>0.001765</td>\n",
              "      <td>0.000114</td>\n",
              "      <td>0.000509</td>\n",
              "    </tr>\n",
              "    <tr>\n",
              "      <th>9</th>\n",
              "      <td>0.000099</td>\n",
              "      <td>0.000296</td>\n",
              "      <td>0.000406</td>\n",
              "      <td>0.000716</td>\n",
              "      <td>0.001667</td>\n",
              "      <td>0.000108</td>\n",
              "      <td>0.000481</td>\n",
              "    </tr>\n",
              "    <tr>\n",
              "      <th>10</th>\n",
              "      <td>0.000098</td>\n",
              "      <td>0.000293</td>\n",
              "      <td>0.000401</td>\n",
              "      <td>0.000708</td>\n",
              "      <td>0.001648</td>\n",
              "      <td>0.000107</td>\n",
              "      <td>0.000476</td>\n",
              "    </tr>\n",
              "    <tr>\n",
              "      <th>11</th>\n",
              "      <td>0.000129</td>\n",
              "      <td>0.000386</td>\n",
              "      <td>0.000528</td>\n",
              "      <td>0.000932</td>\n",
              "      <td>0.002168</td>\n",
              "      <td>0.000140</td>\n",
              "      <td>0.000626</td>\n",
              "    </tr>\n",
              "    <tr>\n",
              "      <th>12</th>\n",
              "      <td>0.000105</td>\n",
              "      <td>0.000313</td>\n",
              "      <td>0.000429</td>\n",
              "      <td>0.000757</td>\n",
              "      <td>0.001761</td>\n",
              "      <td>0.000114</td>\n",
              "      <td>0.000508</td>\n",
              "    </tr>\n",
              "    <tr>\n",
              "      <th>13</th>\n",
              "      <td>0.000100</td>\n",
              "      <td>0.000299</td>\n",
              "      <td>0.000409</td>\n",
              "      <td>0.000722</td>\n",
              "      <td>0.001680</td>\n",
              "      <td>0.000109</td>\n",
              "      <td>0.000485</td>\n",
              "    </tr>\n",
              "    <tr>\n",
              "      <th>14</th>\n",
              "      <td>0.000099</td>\n",
              "      <td>0.000295</td>\n",
              "      <td>0.000404</td>\n",
              "      <td>0.000713</td>\n",
              "      <td>0.001660</td>\n",
              "      <td>0.000108</td>\n",
              "      <td>0.000479</td>\n",
              "    </tr>\n",
              "    <tr>\n",
              "      <th>15</th>\n",
              "      <td>0.000129</td>\n",
              "      <td>0.000385</td>\n",
              "      <td>0.000527</td>\n",
              "      <td>0.000931</td>\n",
              "      <td>0.002166</td>\n",
              "      <td>0.000140</td>\n",
              "      <td>0.000625</td>\n",
              "    </tr>\n",
              "    <tr>\n",
              "      <th>16</th>\n",
              "      <td>0.000106</td>\n",
              "      <td>0.000317</td>\n",
              "      <td>0.000434</td>\n",
              "      <td>0.000765</td>\n",
              "      <td>0.001781</td>\n",
              "      <td>0.000115</td>\n",
              "      <td>0.000514</td>\n",
              "    </tr>\n",
              "    <tr>\n",
              "      <th>17</th>\n",
              "      <td>0.000093</td>\n",
              "      <td>0.000278</td>\n",
              "      <td>0.000380</td>\n",
              "      <td>0.000672</td>\n",
              "      <td>0.001563</td>\n",
              "      <td>0.000101</td>\n",
              "      <td>0.000451</td>\n",
              "    </tr>\n",
              "    <tr>\n",
              "      <th>18</th>\n",
              "      <td>0.000066</td>\n",
              "      <td>0.000198</td>\n",
              "      <td>0.000271</td>\n",
              "      <td>0.000478</td>\n",
              "      <td>0.001113</td>\n",
              "      <td>0.000072</td>\n",
              "      <td>0.000321</td>\n",
              "    </tr>\n",
              "  </tbody>\n",
              "</table>\n",
              "</div>"
            ],
            "text/plain": [
              "      Remote   Device2   Device4   Device8  Device16  Device2r  Device4r\n",
              "0   0.000160  0.000479  0.000656  0.001158  0.002694  0.000174  0.000777\n",
              "1   0.000151  0.000451  0.000617  0.001090  0.002537  0.000164  0.000732\n",
              "2   0.000131  0.000392  0.000536  0.000947  0.002203  0.000143  0.000636\n",
              "3   0.000138  0.000413  0.000566  0.000999  0.002325  0.000151  0.000671\n",
              "4   0.000109  0.000327  0.000448  0.000790  0.001839  0.000119  0.000531\n",
              "5   0.000104  0.000311  0.000426  0.000751  0.001749  0.000113  0.000505\n",
              "6   0.000100  0.000298  0.000408  0.000721  0.001678  0.000109  0.000484\n",
              "7   0.000130  0.000390  0.000534  0.000943  0.002195  0.000142  0.000633\n",
              "8   0.000105  0.000314  0.000429  0.000758  0.001765  0.000114  0.000509\n",
              "9   0.000099  0.000296  0.000406  0.000716  0.001667  0.000108  0.000481\n",
              "10  0.000098  0.000293  0.000401  0.000708  0.001648  0.000107  0.000476\n",
              "11  0.000129  0.000386  0.000528  0.000932  0.002168  0.000140  0.000626\n",
              "12  0.000105  0.000313  0.000429  0.000757  0.001761  0.000114  0.000508\n",
              "13  0.000100  0.000299  0.000409  0.000722  0.001680  0.000109  0.000485\n",
              "14  0.000099  0.000295  0.000404  0.000713  0.001660  0.000108  0.000479\n",
              "15  0.000129  0.000385  0.000527  0.000931  0.002166  0.000140  0.000625\n",
              "16  0.000106  0.000317  0.000434  0.000765  0.001781  0.000115  0.000514\n",
              "17  0.000093  0.000278  0.000380  0.000672  0.001563  0.000101  0.000451\n",
              "18  0.000066  0.000198  0.000271  0.000478  0.001113  0.000072  0.000321"
            ]
          },
          "metadata": {},
          "execution_count": 10
        }
      ]
    },
    {
      "cell_type": "code",
      "metadata": {
        "id": "WJBpfGiOaTBu"
      },
      "source": [
        "pd_vgg16 = pd.DataFrame(np.array(vgg16_compute_values_local_array[0]))"
      ],
      "execution_count": 11,
      "outputs": []
    },
    {
      "cell_type": "code",
      "metadata": {
        "id": "CyWd6TSva2za"
      },
      "source": [
        "df_vgg16 = pd_vgg16.stack().reset_index(level=0, drop=True).reset_index()\n",
        "df_vgg16.columns = ['Layer', 'Latency']"
      ],
      "execution_count": 12,
      "outputs": []
    },
    {
      "cell_type": "code",
      "metadata": {
        "colab": {
          "base_uri": "https://localhost:8080/",
          "height": 298
        },
        "id": "XucEhHCudSe_",
        "outputId": "19d23ed9-9057-431b-d91b-edc689e831a2"
      },
      "source": [
        "x = [i for i in range(20)]\n",
        "plt.xticks(x)\n",
        "sns.barplot(x=\"Layer\",y=\"Latency\", data=df_vgg16, ci=95)\n"
      ],
      "execution_count": 13,
      "outputs": [
        {
          "output_type": "execute_result",
          "data": {
            "text/plain": [
              "<matplotlib.axes._subplots.AxesSubplot at 0x7f718acc7550>"
            ]
          },
          "metadata": {},
          "execution_count": 13
        },
        {
          "output_type": "display_data",
          "data": {
            "image/png": "[encoded data removed]",
            "text/plain": [
              "<Figure size 432x288 with 1 Axes>"
            ]
          },
          "metadata": {
            "needs_background": "light"
          }
        }
      ]
    },
    {
      "cell_type": "code",
      "metadata": {
        "id": "gNtnJ6FXdT9A"
      },
      "source": [
        "#input_data_real = [3072, 65536, 16884, 32768, 8192, 16384, 16384, 16384, 4096, 8192, 8192, 8192, 2048, 2048, 2048, 2048, 512, 4096, 4096]\n",
        "\n",
        "#imagenet\n",
        "input_data_real = 64*np.array([3072, 65536, 16884, 32768, 8192, 16384, 16384, 16384, 4096, 8192, 8192, 8192, 2048, 2048, 2048, 2048, 512, 4096, 4096])\n",
        "\n",
        "input_data_monotone = [65536, 65536, 32768, 32768, 16384, 16384, 16384, 16384, 8192, 8192, 8192, 8192, 2048, 2048, 2048, 2048, 512, 512, 512]"
      ],
      "execution_count": 14,
      "outputs": []
    },
    {
      "cell_type": "code",
      "metadata": {
        "colab": {
          "base_uri": "https://localhost:8080/"
        },
        "id": "uScQfaiSvEAD",
        "outputId": "4a7c951f-7ede-44cf-a8db-c1628dbe1bf1"
      },
      "source": [
        "input_data_real[0]"
      ],
      "execution_count": 15,
      "outputs": [
        {
          "output_type": "execute_result",
          "data": {
            "text/plain": [
              "196608"
            ]
          },
          "metadata": {},
          "execution_count": 15
        }
      ]
    },
    {
      "cell_type": "code",
      "metadata": {
        "colab": {
          "base_uri": "https://localhost:8080/"
        },
        "id": "CUy8OLbmuKPj",
        "outputId": "3dfd78f1-942a-4822-e610-1f09d0d2a4d3"
      },
      "source": [
        "in_ratio = 1\n",
        "min = input_data_real[0]\n",
        "for i in input_data_real:\n",
        "  if in_ratio < i/min:\n",
        "    in_ratio = i/min\n",
        "\n",
        "print(in_ratio)\n"
      ],
      "execution_count": 16,
      "outputs": [
        {
          "output_type": "stream",
          "name": "stdout",
          "text": [
            "21.333333333333332\n"
          ]
        }
      ]
    },
    {
      "cell_type": "code",
      "metadata": {
        "colab": {
          "base_uri": "https://localhost:8080/",
          "height": 307
        },
        "id": "VdxIH_l7dZZP",
        "outputId": "d0c3ede1-7fc3-4864-98fd-13bfc939c119"
      },
      "source": [
        "ip_data = pd.DataFrame(np.array(input_data_real))\n",
        "ip_data.reset_index(level=0, inplace=True)\n",
        "ip_data.columns = ['Layer','Input Size (bytes)']\n",
        "x = [i for i in range(len(input_data_real))]\n",
        "plt.xticks(x)\n",
        "sns.lineplot(x=\"Layer\",y=\"Input Size (bytes)\", data=ip_data, ci=95)\n"
      ],
      "execution_count": 17,
      "outputs": [
        {
          "output_type": "execute_result",
          "data": {
            "text/plain": [
              "<matplotlib.axes._subplots.AxesSubplot at 0x7f718a673450>"
            ]
          },
          "metadata": {},
          "execution_count": 17
        },
        {
          "output_type": "display_data",
          "data": {
            "image/png": "[encoded data removed]",
            "text/plain": [
              "<Figure size 432x288 with 1 Axes>"
            ]
          },
          "metadata": {
            "needs_background": "light"
          }
        }
      ]
    },
    {
      "cell_type": "code",
      "metadata": {
        "colab": {
          "base_uri": "https://localhost:8080/"
        },
        "id": "bMwmlCC9ddf0",
        "outputId": "5e9b549f-e9ce-491d-915d-1a5e9b159736"
      },
      "source": [
        "norm = sum(np.mean(vgg16_compute_values_local_array[1],axis=0))/input_data_real[0]\n",
        "link_rate = 1/norm\n",
        "link_rate"
      ],
      "execution_count": 18,
      "outputs": [
        {
          "output_type": "execute_result",
          "data": {
            "text/plain": [
              "22320412.468537167"
            ]
          },
          "metadata": {},
          "execution_count": 18
        }
      ]
    },
    {
      "cell_type": "code",
      "metadata": {
        "id": "Oq36-B_aJYiv"
      },
      "source": [
        "# updated as we want to compare same general linkrate with a limit to how slow it can get, multiplicatively\n",
        "# updated it back cause we want to check for uniformly distributed linkrate about same value with increasing max ratio\n",
        "\n",
        "def randComm(ratio,link_rate):\n",
        "  sq = math.sqrt(ratio)\n",
        "  return link_rate/sq + random.random()*(link_rate*sq-link_rate/sq)\n",
        "\n",
        "# def randComm(ratio,link_rate):\n",
        "#   return link_rate/ratio + random.random()*(link_rate-link_rate/ratio)"
      ],
      "execution_count": 19,
      "outputs": []
    },
    {
      "cell_type": "code",
      "metadata": {
        "id": "GUfri0bzdur_"
      },
      "source": [
        "def OPT(current_comms_uniform,current_comps_local,current_comps_remote):\n",
        "  \n",
        "  current_comps = []\n",
        "  current_comms = []\n",
        "  \n",
        "  best = current_comms_uniform[0] + np.sum(current_comps_remote)\n",
        "  i = 0\n",
        "  comms_counter = 1\n",
        "  best_point = 0\n",
        "  \n",
        "  for l in current_comps_local:\n",
        "\n",
        "      current_comp = l\n",
        "      current_comm = current_comms_uniform[comms_counter]\n",
        "      \n",
        "      current_comps.append(current_comp)\n",
        "      current_comms.append(current_comm)\n",
        "      \n",
        "      if sum(current_comps) + current_comm + np.sum(current_comps_remote[comms_counter:]) < best:\n",
        "          best_point = i+1\n",
        "          best = sum(current_comps) + current_comm + np.sum(current_comps_remote[comms_counter:])\n",
        "  \n",
        "      i = i + 1\n",
        "      comms_counter = comms_counter + 1\n",
        "  \n",
        "  return best_point, best\n"
      ],
      "execution_count": 20,
      "outputs": []
    },
    {
      "cell_type": "code",
      "metadata": {
        "id": "6aFS4fCV0e4U"
      },
      "source": [
        "def ALGIII(current_comms_uniform,current_comps_local,current_comps_remote,p):  \n",
        "  current_comps = []\n",
        "  current_comms = []\n",
        "  best = current_comms_uniform[0]\n",
        "  best_point = 0\n",
        "  last_best = 0\n",
        "  last_flag = 0\n",
        "  flag = 0\n",
        "  best_comm = current_comms_uniform[0]\n",
        "  last_best_comm = best_comm\n",
        "  i = 0\n",
        "  comms_counter = 1\n",
        "\n",
        "  comm_t = 0\n",
        "  local_t = 0\n",
        "  remote_t = 0\n",
        "  pcomm_t = 0\n",
        "  plocal_t = 0\n",
        "  premote_t = 0\n",
        "  \n",
        "  mins = [0]\n",
        "\n",
        "  for l in current_comps_local:\n",
        "\n",
        "      current_comp = l\n",
        "      current_comm = current_comms_uniform[comms_counter]\n",
        "      \n",
        "      current_comps.append(current_comp)\n",
        "      current_comms.append(current_comm)\n",
        "\n",
        "      if sum(current_comps)-sum(current_comps_remote[:comms_counter]) + current_comm < best: #Updating\n",
        "          best_point = i+1\n",
        "          best = sum(current_comps)-sum(current_comps_remote[:comms_counter]) + current_comm\n",
        "          best_comm = current_comm\n",
        "          flag = 1\n",
        "\n",
        "          mins.append(best_point)\n",
        "          \n",
        "          if random.random() < p: #When it offloads with probability 'p'\n",
        "          \n",
        "            if sum(current_comps[last_best:best_point]) > last_best_comm : #Data was offloaded at last best, take into account remote processing\n",
        "              pcomm_t = pcomm_t + last_best_comm\n",
        "              premote_t = premote_t + sum(current_comps[last_best:best_point]) - last_best_comm \n",
        "              #it could have processed even more than the layers between last_best and best_point remotely, but it cannot finish processing remotely\n",
        "              #because then it would make last_best a better offload point\n",
        "            else: #Data was offloaded at last best, no remote processing\n",
        "              pcomm_t = pcomm_t + sum(current_comps[last_best:best_point])\n",
        "\n",
        "            last_best = best_point\n",
        "            last_best_comm = best_comm\n",
        "            last_flag = 1\n",
        "\n",
        "      if sum(current_comps[best_point:])-sum(current_comps_remote[best_point:comms_counter]) > best_comm: #Offload as best_point was opt_point\n",
        "        #compare last offload at last_best with current offload point\n",
        "        if last_best_comm + sum(current_comps_remote[last_best:comms_counter]) < sum(current_comps[last_best:]) + current_comm: #last_offload was better\n",
        "          if last_best_comm + sum(current_comps_remote[best_point:comms_counter]) < sum(current_comps[last_best:]):\n",
        "            plocal_t = last_best_comm + sum(current_comps_remote[best_point:comms_counter]) #double check\n",
        "          else:\n",
        "            plocal_t = sum(current_comps[last_best:])\n",
        "          # if sum(current_comps[last_best:]) < last_best_comm + sum(current_comps_remote[best_point:comms_counter]):\n",
        "          #   plocal_t = sum(current_comps[last_best:])\n",
        "          # else:\n",
        "          #   plocal_t = last_best_comm + sum(current_comps_remote[best_point:comms_counter])\n",
        "        else:\n",
        "          if last_best_comm > sum(current_comps[last_best:]):\n",
        "            pcomm_t = pcomm_t + sum(current_comps[last_best:])\n",
        "          else:\n",
        "            pcomm_t = pcomm_t + last_best_comm\n",
        "            premote_t = premote_t + sum(current_comps[last_best:]) - last_best_comm\n",
        "        break\n",
        "\n",
        "      i = i + 1\n",
        "      comms_counter = comms_counter + 1\n",
        "\n",
        "  # if last_flag == 1:\n",
        "  #   algI = sum(current_comps_local[:i]) + current_comms_uniform[i] + sum(current_comps_remote[i:])\n",
        "  #   algII = sum(current_comps_local[:last_best]) + current_comms_uniform[last_best] + sum(current_comps_remote[last_best:])\n",
        "  #   alg_best = np.minimum(algI,algII)\n",
        "  # elif flag == 1 :\n",
        "  #   alg_best = sum(current_comps_local[:i]) + current_comms_uniform[i] + sum(current_comps_remote[i:])\n",
        "  # else:\n",
        "  #   alg_best = sum(current_comps_local[:i]) + current_comms_uniform[i] + sum(current_comps_remote[i:])\n",
        "  \n",
        "  # if best_point == 0:\n",
        "  #   alg_best = sum(current_comps_local[:best_point]) + current_comms_uniform[best_point] + sum(current_comps_remote[best_point:])\n",
        "\n",
        "  algI = sum(current_comps_local[:i]) + current_comms_uniform[i] + sum(current_comps_remote[i:])\n",
        "  algII = sum(current_comps_local[:last_best]) + current_comms_uniform[last_best] + sum(current_comps_remote[last_best:])\n",
        "\n",
        "  z = 0\n",
        "\n",
        "  if last_flag == 1:\n",
        "    if algI < algII:\n",
        "      alg_best = algI\n",
        "      local_t = sum(current_comps_local[:i])\n",
        "      comm_t = current_comms_uniform[i]\n",
        "      remote_t = sum(current_comps_remote[i:])\n",
        "    else:\n",
        "      alg_best = algII\n",
        "      local_t = sum(current_comps_local[:last_best]) #remove if erronous\n",
        "      comm_t = current_comms_uniform[last_best]\n",
        "      remote_t = sum(current_comps_remote[last_best:])\n",
        "    z=1\n",
        "  else:\n",
        "    if random.random() < p:\n",
        "      if algI < algII:\n",
        "        if last_best_comm > sum(current_comps_local[:i]):\n",
        "          pcomm_t = sum(current_comps_local[:i])\n",
        "        else:\n",
        "          pcomm_t = last_best_comm\n",
        "          premote_t = sum(current_comps_local[:i]) - last_best_comm\n",
        "        alg_best = algI\n",
        "      else:\n",
        "        comm_t = last_best_comm\n",
        "        remote_t = sum(current_comps_remote[last_best:])\n",
        "        if sum(current_comps_local[:i]) < comm_t+remote_t:\n",
        "          plocal_t = sum(current_comps_local[:i]) #remove if errornous\n",
        "        else:\n",
        "          plocal_t = comm_t+remote_t #remove if erronous\n",
        "        alg_best = algII\n",
        "    else:\n",
        "      local_t = sum(current_comps_local[:i])\n",
        "      comm_t = current_comms_uniform[i]\n",
        "      remote_t = sum(current_comps_remote[i:])\n",
        "      alg_best = algI\n",
        "    z=1\n",
        "  if z == 0:\n",
        "    print (i,last_best, best_point)\n",
        "\n",
        "  net_local = local_t + plocal_t\n",
        "  net_comm = comm_t + pcomm_t\n",
        "  net_remote = remote_t + premote_t\n",
        "\n",
        "  return i, alg_best, algI, current_comms_uniform[i], best_point, best, best_comm, net_local, net_comm, net_remote, mins"
      ],
      "execution_count": 22,
      "outputs": []
    },
    {
      "cell_type": "code",
      "metadata": {
        "colab": {
          "base_uri": "https://localhost:8080/"
        },
        "id": "uExhDtgrTHbJ",
        "outputId": "a75f252a-9ca6-4cb9-ccb0-43bc060e34a2"
      },
      "source": [
        "random.random()"
      ],
      "execution_count": 23,
      "outputs": [
        {
          "output_type": "execute_result",
          "data": {
            "text/plain": [
              "0.20350507963502995"
            ]
          },
          "metadata": {},
          "execution_count": 23
        }
      ]
    },
    {
      "cell_type": "code",
      "metadata": {
        "id": "6SDODvq2dxpL"
      },
      "source": [
        "def ALG(current_comms_uniform,current_comps_local,current_comps_remote):  \n",
        "  current_comps = []\n",
        "  current_comms = []\n",
        "  \n",
        "  best = current_comms_uniform[0]\n",
        "  best_point = 0\n",
        "  best_comm = current_comms_uniform[0]\n",
        "  i = 0\n",
        "  comms_counter = 1\n",
        "\n",
        "  for l in current_comps_local:\n",
        "\n",
        "      current_comp = l\n",
        "      current_comm = current_comms_uniform[comms_counter]\n",
        "      \n",
        "      current_comps.append(current_comp)\n",
        "      current_comms.append(current_comm)\n",
        "\n",
        "      if sum(current_comps)-sum(current_comps_remote[:comms_counter]) + current_comm < best:\n",
        "          best_point = i+1\n",
        "          best = sum(current_comps)-sum(current_comps_remote[:comms_counter]) + current_comm\n",
        "          best_comm = current_comm\n",
        "\n",
        "      if sum(current_comps[best_point:])-sum(current_comps_remote[best_point:comms_counter]) > best_comm:\n",
        "        break\n",
        "\n",
        "      i = i + 1\n",
        "      comms_counter = comms_counter + 1\n",
        "\n",
        "  alg_best = sum(current_comps_local[:i]) + current_comms_uniform[i] + sum(current_comps_remote[i:])\n",
        "\n",
        "  return i, alg_best, current_comms_uniform[i], best_point, best, best_comm"
      ],
      "execution_count": 24,
      "outputs": []
    },
    {
      "cell_type": "code",
      "metadata": {
        "id": "4PmoZE6ajIv5"
      },
      "source": [
        "# #Trial\n",
        "\n",
        "# current_comms_uniform = [k/randComm(2,link_rate) for k in input_data_real]\n",
        "# current_comms_uniform.append(0)\n",
        "# current_comps_local = vgg16_compute_values_local_array[1][2200]\n",
        "# current_comps_remote = vgg16_compute_values_remote_expected\n",
        "\n",
        "# opt_best_point, opt_best = OPT(current_comms_uniform,current_comps_local,current_comps_remote)\n",
        "# alg_best_point, alg_best, c_cut, c_opt = ALG(current_comms_uniform,current_comps_local,current_comps_remote)\n",
        "\n",
        "# alg_theory_best = 1 + c_cut/(c_opt + sum(current_comps_remote))\n",
        "\n",
        "# if alg_best < opt_best:\n",
        "#   print(\"fail best\")\n",
        "#   exit(1)\n",
        "# if alg_best_point < opt_best_point:\n",
        "#   print(\"fail best point\")\n",
        "#   exit(1)\n",
        "# if alg_best > alg_theory_best :\n",
        "#   print(\"does not satisfy proof\")\n",
        "#   exit(1)\n",
        "\n",
        "# print(alg_best/opt_best)\n",
        "# print(opt_best_point,alg_best_point)\n",
        "# print(current_comps_local)\n",
        "# print(current_comps_remote)\n",
        "# print(current_comms_uniform)"
      ],
      "execution_count": null,
      "outputs": []
    },
    {
      "cell_type": "code",
      "metadata": {
        "id": "faLIRDDoq5Aj"
      },
      "source": [
        "ratio_local_samples = []\n",
        "ratio_local_diff = []\n",
        "ratio_local_zero = []\n",
        "\n",
        "time_local_samples = []\n",
        "time_comm_samples = []\n",
        "time_remote_samples = []\n",
        "\n",
        "local_alg_theory_best_samples = []\n",
        "local_ratio_best_samples = []\n",
        "local_performance_best_samples = []\n"
      ],
      "execution_count": 25,
      "outputs": []
    },
    {
      "cell_type": "code",
      "metadata": {
        "id": "UFAtAf2eqLyl"
      },
      "source": [
        "def min_makespan_proof(current_comms_uniform,current_comps_local,current_comps_remote):\n",
        "  best_i = 0\n",
        "  best = current_comms_uniform[0] + sum(current_comps_remote)\n",
        "\n",
        "  for i in range(len(current_comps_remote)+1):\n",
        "    if sum(current_comps_local[:i]) + current_comms_uniform[i] + sum(current_comps_remote[i:]) < best:\n",
        "      best = sum(current_comps_local[:i]) + current_comms_uniform[i] + sum(current_comps_remote[i:])\n",
        "      best_i = i\n",
        "\n",
        "  return best_i, best"
      ],
      "execution_count": 26,
      "outputs": []
    },
    {
      "cell_type": "code",
      "metadata": {
        "id": "a_nsqSTfYZum"
      },
      "source": [
        "#ratios = [1.5,2,3,4,8]\n",
        "r=3\n",
        "i = 0\n",
        "probabilities = [0,0.2,0.4,0.6,0.8,1]\n",
        "\n",
        "def generateSamples():\n",
        "  k=0\n",
        "\n",
        "  l = 0\n",
        "  for p in probabilities:\n",
        "    samples = []\n",
        "    diff = []\n",
        "    zero = []\n",
        "    local_samples = []\n",
        "    comm_samples = []\n",
        "    remote_samples = []\n",
        "\n",
        "    alg_theory_best_samples = []\n",
        "    ratio_best_samples = []\n",
        "    performance_best_samples = []\n",
        "\n",
        "    for j in range(1):\n",
        "      current_comms_uniform = [k/randComm(r,link_rate) for k in input_data_real]\n",
        "      current_comms_uniform.append(0)\n",
        "      current_comps_local = vgg16_compute_values_local_array[i][j]\n",
        "      current_comps_remote = vgg16_compute_values_remote_expected\n",
        "      print(len(current_comms_uniform))\n",
        "      print(len(current_comps_local))\n",
        "      print(len(current_comps_remote))\n",
        "      opt_best_point, opt_best = OPT(current_comms_uniform,current_comps_local,current_comps_remote)\n",
        "      alg_best_point, alg_best, algI, c_cut, best_point, best, c_opt, net_local, net_comm, net_remote, mins = ALGIII(current_comms_uniform,current_comps_local,current_comps_remote,p)\n",
        "      rho_theory_best = 1 + (1-p)*c_cut/(c_opt + sum(current_comps_remote))\n",
        "      M = len(mins)\n",
        "      performance_best = math.pow((1-p),M)*algI\n",
        "      for m in range(len(mins)):\n",
        "        min_m = sum(current_comps_local[:mins[m]]) + current_comms_uniform[mins[m]] +  sum(current_comps_remote[mins[m]:])\n",
        "        min_pair = np.minimum(alg_best,min_m)\n",
        "        performance_best = performance_best + p*(math.pow((1-p),(M-m-1)))*min_pair\n",
        "\n",
        "\n",
        "\n",
        "      k = k + 1\n",
        "\n",
        "      if opt_best_point != 0:\n",
        "        l = l + 1\n",
        "\n",
        "      \n",
        "\n",
        "      if best_point != opt_best_point:\n",
        "        print(\"best point mismatch\", best_point, opt_best_point, alg_best_point)\n",
        "        # print(current_comps_remote)\n",
        "        # print(current_comps_local)\n",
        "        # print(current_comms_uniform)\n",
        "        # print(opt_best, alg_best)\n",
        "        print(min_makespan_proof(current_comms_uniform,current_comps_local,current_comps_remote))\n",
        "        point, span = min_makespan_proof(current_comms_uniform,current_comps_local,current_comps_remote)\n",
        "        if point != opt_best_point:\n",
        "          print(\"Opt point mismatch\", point, opt_best_point)\n",
        "\n",
        "      # if best != opt_best:\n",
        "      #   print(\"opt makespan mismatch\", best, opt_best, alg_best)\n",
        "\n",
        "      if alg_best < opt_best:\n",
        "        print(\"fail best\")\n",
        "        exit(1)\n",
        "\n",
        "      if alg_best_point < opt_best_point:\n",
        "        print(\"fail best point\")\n",
        "        exit(1)\n",
        "        \n",
        "      # if (alg_best/opt_best) > rho_theory_best:\n",
        "      #   print(\"does not satisfy proof\")\n",
        "      #   print((alg_best/opt_best), rho_theory_best, alg_best, opt_best)\n",
        "      #   print(opt_best_point, alg_best_point)\n",
        "      #   print(current_comps_remote)\n",
        "      #   print(current_comps_local)\n",
        "      #   print(current_comms_uniform)\n",
        "      #   exit(1)\n",
        "      samples.append(alg_best/opt_best)\n",
        "      diff.append(rho_theory_best - (alg_best/opt_best))\n",
        "      local_samples.append(net_local)\n",
        "      comm_samples.append(net_comm)\n",
        "      remote_samples.append(net_remote)\n",
        "      alg_theory_best_samples.append(rho_theory_best)\n",
        "      ratio_best_samples.append(alg_best/opt_best)\n",
        "      performance_best_samples.append(performance_best/opt_best)\n",
        "    ratio_local_samples.append(samples)\n",
        "    time_local_samples.append(local_samples)\n",
        "    time_comm_samples.append(comm_samples)\n",
        "    time_remote_samples.append(remote_samples)\n",
        "    ratio_local_diff.append(diff)\n",
        "    ratio_local_zero.append(zero)\n",
        "    local_alg_theory_best_samples.append(alg_theory_best_samples)\n",
        "    local_ratio_best_samples.append(ratio_best_samples)\n",
        "    local_performance_best_samples.append(performance_best_samples)\n",
        "  print(l,k)"
      ],
      "execution_count": 27,
      "outputs": []
    },
    {
      "cell_type": "code",
      "metadata": {
        "id": "6jMTWcOqsWW9",
        "colab": {
          "base_uri": "https://localhost:8080/"
        },
        "outputId": "26cd1ccf-5f7d-4f7c-b0ff-602b02a97481"
      },
      "source": [
        "generateSamples()"
      ],
      "execution_count": 28,
      "outputs": [
        {
          "output_type": "stream",
          "name": "stdout",
          "text": [
            "20\n",
            "19\n",
            "19\n",
            "20\n",
            "19\n",
            "19\n",
            "20\n",
            "19\n",
            "19\n",
            "20\n",
            "19\n",
            "19\n",
            "20\n",
            "19\n",
            "19\n",
            "20\n",
            "19\n",
            "19\n",
            "5 6\n"
          ]
        }
      ]
    },
    {
      "cell_type": "code",
      "metadata": {
        "colab": {
          "base_uri": "https://localhost:8080/"
        },
        "id": "VC2RNdDCHDoN",
        "outputId": "f8c21a60-7225-4c90-aa22-2b81a7b063dd"
      },
      "source": [
        "np.array(local_performance_best_samples).shape"
      ],
      "execution_count": null,
      "outputs": [
        {
          "output_type": "execute_result",
          "data": {
            "text/plain": [
              "(6, 7000)"
            ]
          },
          "metadata": {},
          "execution_count": 159
        }
      ]
    },
    {
      "cell_type": "code",
      "metadata": {
        "id": "4BaEUZsUzfiL",
        "colab": {
          "base_uri": "https://localhost:8080/",
          "height": 340
        },
        "outputId": "8e1afd55-37d6-4dbe-b100-a8ee9d2bdc4e"
      },
      "source": [
        "df_min = pd.DataFrame(np.min(ratio_local_diff,axis=2))"
      ],
      "execution_count": null,
      "outputs": [
        {
          "output_type": "error",
          "ename": "AxisError",
          "evalue": "ignored",
          "traceback": [
            "\u001b[0;31m---------------------------------------------------------------------------\u001b[0m",
            "\u001b[0;31mAxisError\u001b[0m                                 Traceback (most recent call last)",
            "\u001b[0;32m<ipython-input-30-dbe323d508b8>\u001b[0m in \u001b[0;36m<module>\u001b[0;34m()\u001b[0m\n\u001b[0;32m----> 1\u001b[0;31m \u001b[0mdf_min\u001b[0m \u001b[0;34m=\u001b[0m \u001b[0mpd\u001b[0m\u001b[0;34m.\u001b[0m\u001b[0mDataFrame\u001b[0m\u001b[0;34m(\u001b[0m\u001b[0mnp\u001b[0m\u001b[0;34m.\u001b[0m\u001b[0mmin\u001b[0m\u001b[0;34m(\u001b[0m\u001b[0mratio_local_diff\u001b[0m\u001b[0;34m,\u001b[0m\u001b[0maxis\u001b[0m\u001b[0;34m=\u001b[0m\u001b[0;36m2\u001b[0m\u001b[0;34m)\u001b[0m\u001b[0;34m)\u001b[0m\u001b[0;34m\u001b[0m\u001b[0;34m\u001b[0m\u001b[0m\n\u001b[0m",
            "\u001b[0;32m<__array_function__ internals>\u001b[0m in \u001b[0;36mamin\u001b[0;34m(*args, **kwargs)\u001b[0m\n",
            "\u001b[0;32m/usr/local/lib/python3.7/dist-packages/numpy/core/fromnumeric.py\u001b[0m in \u001b[0;36mamin\u001b[0;34m(a, axis, out, keepdims, initial, where)\u001b[0m\n\u001b[1;32m   2829\u001b[0m     \"\"\"\n\u001b[1;32m   2830\u001b[0m     return _wrapreduction(a, np.minimum, 'min', axis, None, out,\n\u001b[0;32m-> 2831\u001b[0;31m                           keepdims=keepdims, initial=initial, where=where)\n\u001b[0m\u001b[1;32m   2832\u001b[0m \u001b[0;34m\u001b[0m\u001b[0m\n\u001b[1;32m   2833\u001b[0m \u001b[0;34m\u001b[0m\u001b[0m\n",
            "\u001b[0;32m/usr/local/lib/python3.7/dist-packages/numpy/core/fromnumeric.py\u001b[0m in \u001b[0;36m_wrapreduction\u001b[0;34m(obj, ufunc, method, axis, dtype, out, **kwargs)\u001b[0m\n\u001b[1;32m     85\u001b[0m                 \u001b[0;32mreturn\u001b[0m \u001b[0mreduction\u001b[0m\u001b[0;34m(\u001b[0m\u001b[0maxis\u001b[0m\u001b[0;34m=\u001b[0m\u001b[0maxis\u001b[0m\u001b[0;34m,\u001b[0m \u001b[0mout\u001b[0m\u001b[0;34m=\u001b[0m\u001b[0mout\u001b[0m\u001b[0;34m,\u001b[0m \u001b[0;34m**\u001b[0m\u001b[0mpasskwargs\u001b[0m\u001b[0;34m)\u001b[0m\u001b[0;34m\u001b[0m\u001b[0;34m\u001b[0m\u001b[0m\n\u001b[1;32m     86\u001b[0m \u001b[0;34m\u001b[0m\u001b[0m\n\u001b[0;32m---> 87\u001b[0;31m     \u001b[0;32mreturn\u001b[0m \u001b[0mufunc\u001b[0m\u001b[0;34m.\u001b[0m\u001b[0mreduce\u001b[0m\u001b[0;34m(\u001b[0m\u001b[0mobj\u001b[0m\u001b[0;34m,\u001b[0m \u001b[0maxis\u001b[0m\u001b[0;34m,\u001b[0m \u001b[0mdtype\u001b[0m\u001b[0;34m,\u001b[0m \u001b[0mout\u001b[0m\u001b[0;34m,\u001b[0m \u001b[0;34m**\u001b[0m\u001b[0mpasskwargs\u001b[0m\u001b[0;34m)\u001b[0m\u001b[0;34m\u001b[0m\u001b[0;34m\u001b[0m\u001b[0m\n\u001b[0m\u001b[1;32m     88\u001b[0m \u001b[0;34m\u001b[0m\u001b[0m\n\u001b[1;32m     89\u001b[0m \u001b[0;34m\u001b[0m\u001b[0m\n",
            "\u001b[0;31mAxisError\u001b[0m: axis 2 is out of bounds for array of dimension 2"
          ]
        }
      ]
    },
    {
      "cell_type": "code",
      "metadata": {
        "colab": {
          "base_uri": "https://localhost:8080/",
          "height": 163
        },
        "id": "X7ZtxX0hzjm1",
        "outputId": "a15baddc-c9e5-4833-849e-891f939ba277"
      },
      "source": [
        "df_min"
      ],
      "execution_count": null,
      "outputs": [
        {
          "output_type": "error",
          "ename": "NameError",
          "evalue": "ignored",
          "traceback": [
            "\u001b[0;31m---------------------------------------------------------------------------\u001b[0m",
            "\u001b[0;31mNameError\u001b[0m                                 Traceback (most recent call last)",
            "\u001b[0;32m<ipython-input-31-06fa5cf8b296>\u001b[0m in \u001b[0;36m<module>\u001b[0;34m()\u001b[0m\n\u001b[0;32m----> 1\u001b[0;31m \u001b[0mdf_min\u001b[0m\u001b[0;34m\u001b[0m\u001b[0;34m\u001b[0m\u001b[0m\n\u001b[0m",
            "\u001b[0;31mNameError\u001b[0m: name 'df_min' is not defined"
          ]
        }
      ]
    },
    {
      "cell_type": "code",
      "metadata": {
        "colab": {
          "base_uri": "https://localhost:8080/"
        },
        "id": "EwWY3-Tz0EmZ",
        "outputId": "b1c4c4bf-8f2d-4c30-d77b-d4890ee3ac5c"
      },
      "source": [
        "np.min(ratio_local_diff)"
      ],
      "execution_count": null,
      "outputs": [
        {
          "output_type": "execute_result",
          "data": {
            "text/plain": [
              "-6.1734368443055185"
            ]
          },
          "metadata": {},
          "execution_count": 32
        }
      ]
    },
    {
      "cell_type": "code",
      "metadata": {
        "id": "zw6YwQOOus5e",
        "colab": {
          "base_uri": "https://localhost:8080/",
          "height": 340
        },
        "outputId": "de1b8cae-8290-4cb0-f3eb-a62515b51736"
      },
      "source": [
        "df_max = pd.DataFrame(np.max(ratio_local_diff,axis=2))"
      ],
      "execution_count": null,
      "outputs": [
        {
          "output_type": "error",
          "ename": "AxisError",
          "evalue": "ignored",
          "traceback": [
            "\u001b[0;31m---------------------------------------------------------------------------\u001b[0m",
            "\u001b[0;31mAxisError\u001b[0m                                 Traceback (most recent call last)",
            "\u001b[0;32m<ipython-input-33-97aa4f15d890>\u001b[0m in \u001b[0;36m<module>\u001b[0;34m()\u001b[0m\n\u001b[0;32m----> 1\u001b[0;31m \u001b[0mdf_max\u001b[0m \u001b[0;34m=\u001b[0m \u001b[0mpd\u001b[0m\u001b[0;34m.\u001b[0m\u001b[0mDataFrame\u001b[0m\u001b[0;34m(\u001b[0m\u001b[0mnp\u001b[0m\u001b[0;34m.\u001b[0m\u001b[0mmax\u001b[0m\u001b[0;34m(\u001b[0m\u001b[0mratio_local_diff\u001b[0m\u001b[0;34m,\u001b[0m\u001b[0maxis\u001b[0m\u001b[0;34m=\u001b[0m\u001b[0;36m2\u001b[0m\u001b[0;34m)\u001b[0m\u001b[0;34m)\u001b[0m\u001b[0;34m\u001b[0m\u001b[0;34m\u001b[0m\u001b[0m\n\u001b[0m",
            "\u001b[0;32m<__array_function__ internals>\u001b[0m in \u001b[0;36mamax\u001b[0;34m(*args, **kwargs)\u001b[0m\n",
            "\u001b[0;32m/usr/local/lib/python3.7/dist-packages/numpy/core/fromnumeric.py\u001b[0m in \u001b[0;36mamax\u001b[0;34m(a, axis, out, keepdims, initial, where)\u001b[0m\n\u001b[1;32m   2704\u001b[0m     \"\"\"\n\u001b[1;32m   2705\u001b[0m     return _wrapreduction(a, np.maximum, 'max', axis, None, out,\n\u001b[0;32m-> 2706\u001b[0;31m                           keepdims=keepdims, initial=initial, where=where)\n\u001b[0m\u001b[1;32m   2707\u001b[0m \u001b[0;34m\u001b[0m\u001b[0m\n\u001b[1;32m   2708\u001b[0m \u001b[0;34m\u001b[0m\u001b[0m\n",
            "\u001b[0;32m/usr/local/lib/python3.7/dist-packages/numpy/core/fromnumeric.py\u001b[0m in \u001b[0;36m_wrapreduction\u001b[0;34m(obj, ufunc, method, axis, dtype, out, **kwargs)\u001b[0m\n\u001b[1;32m     85\u001b[0m                 \u001b[0;32mreturn\u001b[0m \u001b[0mreduction\u001b[0m\u001b[0;34m(\u001b[0m\u001b[0maxis\u001b[0m\u001b[0;34m=\u001b[0m\u001b[0maxis\u001b[0m\u001b[0;34m,\u001b[0m \u001b[0mout\u001b[0m\u001b[0;34m=\u001b[0m\u001b[0mout\u001b[0m\u001b[0;34m,\u001b[0m \u001b[0;34m**\u001b[0m\u001b[0mpasskwargs\u001b[0m\u001b[0;34m)\u001b[0m\u001b[0;34m\u001b[0m\u001b[0;34m\u001b[0m\u001b[0m\n\u001b[1;32m     86\u001b[0m \u001b[0;34m\u001b[0m\u001b[0m\n\u001b[0;32m---> 87\u001b[0;31m     \u001b[0;32mreturn\u001b[0m \u001b[0mufunc\u001b[0m\u001b[0;34m.\u001b[0m\u001b[0mreduce\u001b[0m\u001b[0;34m(\u001b[0m\u001b[0mobj\u001b[0m\u001b[0;34m,\u001b[0m \u001b[0maxis\u001b[0m\u001b[0;34m,\u001b[0m \u001b[0mdtype\u001b[0m\u001b[0;34m,\u001b[0m \u001b[0mout\u001b[0m\u001b[0;34m,\u001b[0m \u001b[0;34m**\u001b[0m\u001b[0mpasskwargs\u001b[0m\u001b[0;34m)\u001b[0m\u001b[0;34m\u001b[0m\u001b[0;34m\u001b[0m\u001b[0m\n\u001b[0m\u001b[1;32m     88\u001b[0m \u001b[0;34m\u001b[0m\u001b[0m\n\u001b[1;32m     89\u001b[0m \u001b[0;34m\u001b[0m\u001b[0m\n",
            "\u001b[0;31mAxisError\u001b[0m: axis 2 is out of bounds for array of dimension 2"
          ]
        }
      ]
    },
    {
      "cell_type": "code",
      "metadata": {
        "colab": {
          "base_uri": "https://localhost:8080/",
          "height": 163
        },
        "id": "TRxH_59NzbwF",
        "outputId": "a684f1ab-dd77-44a6-e2b9-b3dca3941299"
      },
      "source": [
        "df_max"
      ],
      "execution_count": null,
      "outputs": [
        {
          "output_type": "error",
          "ename": "NameError",
          "evalue": "ignored",
          "traceback": [
            "\u001b[0;31m---------------------------------------------------------------------------\u001b[0m",
            "\u001b[0;31mNameError\u001b[0m                                 Traceback (most recent call last)",
            "\u001b[0;32m<ipython-input-34-1c1aa6951034>\u001b[0m in \u001b[0;36m<module>\u001b[0;34m()\u001b[0m\n\u001b[0;32m----> 1\u001b[0;31m \u001b[0mdf_max\u001b[0m\u001b[0;34m\u001b[0m\u001b[0;34m\u001b[0m\u001b[0m\n\u001b[0m",
            "\u001b[0;31mNameError\u001b[0m: name 'df_max' is not defined"
          ]
        }
      ]
    },
    {
      "cell_type": "code",
      "metadata": {
        "id": "rft9nkJfuz98",
        "colab": {
          "base_uri": "https://localhost:8080/",
          "height": 340
        },
        "outputId": "bd762bb3-2659-409a-aa48-7c7a87d85c21"
      },
      "source": [
        "df_mean = pd.DataFrame(np.mean(ratio_local_diff,axis=2))"
      ],
      "execution_count": null,
      "outputs": [
        {
          "output_type": "error",
          "ename": "AxisError",
          "evalue": "ignored",
          "traceback": [
            "\u001b[0;31m---------------------------------------------------------------------------\u001b[0m",
            "\u001b[0;31mAxisError\u001b[0m                                 Traceback (most recent call last)",
            "\u001b[0;32m<ipython-input-68-b6fcc2cfc7c8>\u001b[0m in \u001b[0;36m<module>\u001b[0;34m()\u001b[0m\n\u001b[0;32m----> 1\u001b[0;31m \u001b[0mdf_mean\u001b[0m \u001b[0;34m=\u001b[0m \u001b[0mpd\u001b[0m\u001b[0;34m.\u001b[0m\u001b[0mDataFrame\u001b[0m\u001b[0;34m(\u001b[0m\u001b[0mnp\u001b[0m\u001b[0;34m.\u001b[0m\u001b[0mmean\u001b[0m\u001b[0;34m(\u001b[0m\u001b[0mratio_local_diff\u001b[0m\u001b[0;34m,\u001b[0m\u001b[0maxis\u001b[0m\u001b[0;34m=\u001b[0m\u001b[0;36m2\u001b[0m\u001b[0;34m)\u001b[0m\u001b[0;34m)\u001b[0m\u001b[0;34m\u001b[0m\u001b[0;34m\u001b[0m\u001b[0m\n\u001b[0m",
            "\u001b[0;32m<__array_function__ internals>\u001b[0m in \u001b[0;36mmean\u001b[0;34m(*args, **kwargs)\u001b[0m\n",
            "\u001b[0;32m/usr/local/lib/python3.7/dist-packages/numpy/core/fromnumeric.py\u001b[0m in \u001b[0;36mmean\u001b[0;34m(a, axis, dtype, out, keepdims)\u001b[0m\n\u001b[1;32m   3371\u001b[0m \u001b[0;34m\u001b[0m\u001b[0m\n\u001b[1;32m   3372\u001b[0m     return _methods._mean(a, axis=axis, dtype=dtype,\n\u001b[0;32m-> 3373\u001b[0;31m                           out=out, **kwargs)\n\u001b[0m\u001b[1;32m   3374\u001b[0m \u001b[0;34m\u001b[0m\u001b[0m\n\u001b[1;32m   3375\u001b[0m \u001b[0;34m\u001b[0m\u001b[0m\n",
            "\u001b[0;32m/usr/local/lib/python3.7/dist-packages/numpy/core/_methods.py\u001b[0m in \u001b[0;36m_mean\u001b[0;34m(a, axis, dtype, out, keepdims)\u001b[0m\n\u001b[1;32m    145\u001b[0m \u001b[0;34m\u001b[0m\u001b[0m\n\u001b[1;32m    146\u001b[0m     \u001b[0mis_float16_result\u001b[0m \u001b[0;34m=\u001b[0m \u001b[0;32mFalse\u001b[0m\u001b[0;34m\u001b[0m\u001b[0;34m\u001b[0m\u001b[0m\n\u001b[0;32m--> 147\u001b[0;31m     \u001b[0mrcount\u001b[0m \u001b[0;34m=\u001b[0m \u001b[0m_count_reduce_items\u001b[0m\u001b[0;34m(\u001b[0m\u001b[0marr\u001b[0m\u001b[0;34m,\u001b[0m \u001b[0maxis\u001b[0m\u001b[0;34m)\u001b[0m\u001b[0;34m\u001b[0m\u001b[0;34m\u001b[0m\u001b[0m\n\u001b[0m\u001b[1;32m    148\u001b[0m     \u001b[0;31m# Make this warning show up first\u001b[0m\u001b[0;34m\u001b[0m\u001b[0;34m\u001b[0m\u001b[0;34m\u001b[0m\u001b[0m\n\u001b[1;32m    149\u001b[0m     \u001b[0;32mif\u001b[0m \u001b[0mrcount\u001b[0m \u001b[0;34m==\u001b[0m \u001b[0;36m0\u001b[0m\u001b[0;34m:\u001b[0m\u001b[0;34m\u001b[0m\u001b[0;34m\u001b[0m\u001b[0m\n",
            "\u001b[0;32m/usr/local/lib/python3.7/dist-packages/numpy/core/_methods.py\u001b[0m in \u001b[0;36m_count_reduce_items\u001b[0;34m(arr, axis)\u001b[0m\n\u001b[1;32m     64\u001b[0m     \u001b[0mitems\u001b[0m \u001b[0;34m=\u001b[0m \u001b[0;36m1\u001b[0m\u001b[0;34m\u001b[0m\u001b[0;34m\u001b[0m\u001b[0m\n\u001b[1;32m     65\u001b[0m     \u001b[0;32mfor\u001b[0m \u001b[0max\u001b[0m \u001b[0;32min\u001b[0m \u001b[0maxis\u001b[0m\u001b[0;34m:\u001b[0m\u001b[0;34m\u001b[0m\u001b[0;34m\u001b[0m\u001b[0m\n\u001b[0;32m---> 66\u001b[0;31m         \u001b[0mitems\u001b[0m \u001b[0;34m*=\u001b[0m \u001b[0marr\u001b[0m\u001b[0;34m.\u001b[0m\u001b[0mshape\u001b[0m\u001b[0;34m[\u001b[0m\u001b[0mmu\u001b[0m\u001b[0;34m.\u001b[0m\u001b[0mnormalize_axis_index\u001b[0m\u001b[0;34m(\u001b[0m\u001b[0max\u001b[0m\u001b[0;34m,\u001b[0m \u001b[0marr\u001b[0m\u001b[0;34m.\u001b[0m\u001b[0mndim\u001b[0m\u001b[0;34m)\u001b[0m\u001b[0;34m]\u001b[0m\u001b[0;34m\u001b[0m\u001b[0;34m\u001b[0m\u001b[0m\n\u001b[0m\u001b[1;32m     67\u001b[0m     \u001b[0;32mreturn\u001b[0m \u001b[0mitems\u001b[0m\u001b[0;34m\u001b[0m\u001b[0;34m\u001b[0m\u001b[0m\n\u001b[1;32m     68\u001b[0m \u001b[0;34m\u001b[0m\u001b[0m\n",
            "\u001b[0;31mAxisError\u001b[0m: axis 2 is out of bounds for array of dimension 2"
          ]
        }
      ]
    },
    {
      "cell_type": "code",
      "metadata": {
        "colab": {
          "base_uri": "https://localhost:8080/",
          "height": 163
        },
        "id": "PYiNs1iHzo11",
        "outputId": "a4833668-aefe-4763-e773-5e87553facff"
      },
      "source": [
        "df_mean"
      ],
      "execution_count": null,
      "outputs": [
        {
          "output_type": "error",
          "ename": "NameError",
          "evalue": "ignored",
          "traceback": [
            "\u001b[0;31m---------------------------------------------------------------------------\u001b[0m",
            "\u001b[0;31mNameError\u001b[0m                                 Traceback (most recent call last)",
            "\u001b[0;32m<ipython-input-36-7bc265626ff9>\u001b[0m in \u001b[0;36m<module>\u001b[0;34m()\u001b[0m\n\u001b[0;32m----> 1\u001b[0;31m \u001b[0mdf_mean\u001b[0m\u001b[0;34m\u001b[0m\u001b[0;34m\u001b[0m\u001b[0m\n\u001b[0m",
            "\u001b[0;31mNameError\u001b[0m: name 'df_mean' is not defined"
          ]
        }
      ]
    },
    {
      "cell_type": "code",
      "metadata": {
        "id": "Pr9WuWxMrq3Y"
      },
      "source": [
        "df_max = pd.DataFrame(np.max(ratio_local_samples,axis=1))"
      ],
      "execution_count": null,
      "outputs": []
    },
    {
      "cell_type": "code",
      "metadata": {
        "id": "S4IQoFrpGAAG"
      },
      "source": [
        "df_m = pd.DataFrame(np.mean(local_ratio_best_samples,axis=1),columns=[\"Average Performance\"],index=index)"
      ],
      "execution_count": null,
      "outputs": []
    },
    {
      "cell_type": "code",
      "metadata": {
        "colab": {
          "base_uri": "https://localhost:8080/",
          "height": 235
        },
        "id": "0lKPD7sLGIPb",
        "outputId": "8ee8ec48-f517-42a3-cc91-d1f6e69ad914"
      },
      "source": [
        "df_m"
      ],
      "execution_count": null,
      "outputs": [
        {
          "output_type": "execute_result",
          "data": {
            "text/html": [
              "<div>\n",
              "<style scoped>\n",
              "    .dataframe tbody tr th:only-of-type {\n",
              "        vertical-align: middle;\n",
              "    }\n",
              "\n",
              "    .dataframe tbody tr th {\n",
              "        vertical-align: top;\n",
              "    }\n",
              "\n",
              "    .dataframe thead th {\n",
              "        text-align: right;\n",
              "    }\n",
              "</style>\n",
              "<table border=\"1\" class=\"dataframe\">\n",
              "  <thead>\n",
              "    <tr style=\"text-align: right;\">\n",
              "      <th></th>\n",
              "      <th>Average Performance</th>\n",
              "    </tr>\n",
              "  </thead>\n",
              "  <tbody>\n",
              "    <tr>\n",
              "      <th>0.0</th>\n",
              "      <td>1.000000</td>\n",
              "    </tr>\n",
              "    <tr>\n",
              "      <th>0.2</th>\n",
              "      <td>1.000239</td>\n",
              "    </tr>\n",
              "    <tr>\n",
              "      <th>0.4</th>\n",
              "      <td>1.000224</td>\n",
              "    </tr>\n",
              "    <tr>\n",
              "      <th>0.6</th>\n",
              "      <td>1.000000</td>\n",
              "    </tr>\n",
              "    <tr>\n",
              "      <th>0.8</th>\n",
              "      <td>1.000086</td>\n",
              "    </tr>\n",
              "    <tr>\n",
              "      <th>1.0</th>\n",
              "      <td>1.000000</td>\n",
              "    </tr>\n",
              "  </tbody>\n",
              "</table>\n",
              "</div>"
            ],
            "text/plain": [
              "     Average Performance\n",
              "0.0             1.000000\n",
              "0.2             1.000239\n",
              "0.4             1.000224\n",
              "0.6             1.000000\n",
              "0.8             1.000086\n",
              "1.0             1.000000"
            ]
          },
          "metadata": {},
          "execution_count": 170
        }
      ]
    },
    {
      "cell_type": "code",
      "metadata": {
        "colab": {
          "base_uri": "https://localhost:8080/",
          "height": 293
        },
        "id": "Q8LlQ4hiGBEo",
        "outputId": "7cf54f5b-5722-4945-e4b5-c56c8f596445"
      },
      "source": [
        "sns.lineplot(data=df_m, err_style=\"bars\", ci=95)"
      ],
      "execution_count": null,
      "outputs": [
        {
          "output_type": "execute_result",
          "data": {
            "text/plain": [
              "<matplotlib.axes._subplots.AxesSubplot at 0x7f5b89253fd0>"
            ]
          },
          "metadata": {},
          "execution_count": 185
        },
        {
          "output_type": "display_data",
          "data": {
            "image/png": "[encoded data removed]",
            "text/plain": [
              "<Figure size 432x288 with 1 Axes>"
            ]
          },
          "metadata": {
            "needs_background": "light"
          }
        }
      ]
    },
    {
      "cell_type": "code",
      "metadata": {
        "id": "3ziSpzEpCNPB"
      },
      "source": [
        "index = ['0.0','0.2','0.4','0.6','0.8','1.0']"
      ],
      "execution_count": null,
      "outputs": []
    },
    {
      "cell_type": "code",
      "metadata": {
        "id": "6O591eSaA5qB"
      },
      "source": [
        "df_1 = pd.DataFrame(np.mean(local_alg_theory_best_samples,axis=1),columns=[\"Average Rho\"],index=index)"
      ],
      "execution_count": null,
      "outputs": []
    },
    {
      "cell_type": "code",
      "metadata": {
        "id": "a57To5LWA5fB"
      },
      "source": [
        "df_2 = pd.DataFrame(np.mean(local_performance_best_samples,axis=1),columns=[\"Average Tighter Rho\"],index=index)"
      ],
      "execution_count": null,
      "outputs": []
    },
    {
      "cell_type": "code",
      "metadata": {
        "id": "_JX31wkhtsZX"
      },
      "source": [
        "df_3 = pd.DataFrame(np.mean(local_ratio_best_samples,axis=1),columns=[\"Average Performance\"],index=index)"
      ],
      "execution_count": null,
      "outputs": []
    },
    {
      "cell_type": "code",
      "metadata": {
        "id": "JOWoHSvN1J0q"
      },
      "source": [
        "df_performance = pd.concat([df_1, df_2, df_3], axis=1)"
      ],
      "execution_count": null,
      "outputs": []
    },
    {
      "cell_type": "code",
      "metadata": {
        "id": "ZatYWiEMVB-s"
      },
      "source": [
        "df_p = pd.DataFrame(np.array([0,0.2,0.4,0.6,0.8,1]), columns=[\"p\"])"
      ],
      "execution_count": null,
      "outputs": []
    },
    {
      "cell_type": "code",
      "metadata": {
        "colab": {
          "base_uri": "https://localhost:8080/",
          "height": 290
        },
        "id": "Qp6tbFZxUlHs",
        "outputId": "d7e20376-eb66-41e9-8c11-ee8fa118fede"
      },
      "source": [
        "ax = sns.lineplot(data=df_performance, err_style=\"bars\", ci=95)\n",
        "ax.set(xlabel = \"Offload Probability\", ylabel=\"Performance\")\n",
        "plt.show()"
      ],
      "execution_count": null,
      "outputs": [
        {
          "output_type": "display_data",
          "data": {
            "image/png": "[encoded data removed]",
            "text/plain": [
              "<Figure size 432x288 with 1 Axes>"
            ]
          },
          "metadata": {
            "needs_background": "light"
          }
        }
      ]
    },
    {
      "cell_type": "code",
      "metadata": {
        "id": "TTo9j5Jt-ThF"
      },
      "source": [
        ""
      ],
      "execution_count": null,
      "outputs": []
    },
    {
      "cell_type": "code",
      "metadata": {
        "id": "fETjQJqzOs-L"
      },
      "source": [
        "df_mean1 = pd.DataFrame(np.mean(time_local_samples,axis=1), columns=[\"Local Processing Resource\"],index=index)"
      ],
      "execution_count": null,
      "outputs": []
    },
    {
      "cell_type": "code",
      "metadata": {
        "colab": {
          "base_uri": "https://localhost:8080/",
          "height": 235
        },
        "id": "ssXsv-1ZOwEM",
        "outputId": "6ca7184c-61ae-43fe-b702-b415538dfde3"
      },
      "source": [
        "df_mean1"
      ],
      "execution_count": null,
      "outputs": [
        {
          "output_type": "execute_result",
          "data": {
            "text/html": [
              "<div>\n",
              "<style scoped>\n",
              "    .dataframe tbody tr th:only-of-type {\n",
              "        vertical-align: middle;\n",
              "    }\n",
              "\n",
              "    .dataframe tbody tr th {\n",
              "        vertical-align: top;\n",
              "    }\n",
              "\n",
              "    .dataframe thead th {\n",
              "        text-align: right;\n",
              "    }\n",
              "</style>\n",
              "<table border=\"1\" class=\"dataframe\">\n",
              "  <thead>\n",
              "    <tr style=\"text-align: right;\">\n",
              "      <th></th>\n",
              "      <th>Local Processing Resource</th>\n",
              "    </tr>\n",
              "  </thead>\n",
              "  <tbody>\n",
              "    <tr>\n",
              "      <th>0.0</th>\n",
              "      <td>0.002736</td>\n",
              "    </tr>\n",
              "    <tr>\n",
              "      <th>0.2</th>\n",
              "      <td>0.002504</td>\n",
              "    </tr>\n",
              "    <tr>\n",
              "      <th>0.4</th>\n",
              "      <td>0.002565</td>\n",
              "    </tr>\n",
              "    <tr>\n",
              "      <th>0.6</th>\n",
              "      <td>0.002666</td>\n",
              "    </tr>\n",
              "    <tr>\n",
              "      <th>0.8</th>\n",
              "      <td>0.002727</td>\n",
              "    </tr>\n",
              "    <tr>\n",
              "      <th>1.0</th>\n",
              "      <td>0.002736</td>\n",
              "    </tr>\n",
              "  </tbody>\n",
              "</table>\n",
              "</div>"
            ],
            "text/plain": [
              "     Local Processing Resource\n",
              "0.0                   0.002736\n",
              "0.2                   0.002504\n",
              "0.4                   0.002565\n",
              "0.6                   0.002666\n",
              "0.8                   0.002727\n",
              "1.0                   0.002736"
            ]
          },
          "metadata": {},
          "execution_count": 172
        }
      ]
    },
    {
      "cell_type": "code",
      "metadata": {
        "id": "zl7pYSPOOxjg"
      },
      "source": [
        "df_mean2 = pd.DataFrame(np.mean(time_comm_samples,axis=1),columns=[\"Communication Resource\"],index=index)"
      ],
      "execution_count": null,
      "outputs": []
    },
    {
      "cell_type": "code",
      "metadata": {
        "colab": {
          "base_uri": "https://localhost:8080/",
          "height": 235
        },
        "id": "HrIyKE4HO1UP",
        "outputId": "33204e2f-9e8f-4f2c-e1ef-aa90aaf2bbe5"
      },
      "source": [
        "df_mean2"
      ],
      "execution_count": null,
      "outputs": [
        {
          "output_type": "execute_result",
          "data": {
            "text/html": [
              "<div>\n",
              "<style scoped>\n",
              "    .dataframe tbody tr th:only-of-type {\n",
              "        vertical-align: middle;\n",
              "    }\n",
              "\n",
              "    .dataframe tbody tr th {\n",
              "        vertical-align: top;\n",
              "    }\n",
              "\n",
              "    .dataframe thead th {\n",
              "        text-align: right;\n",
              "    }\n",
              "</style>\n",
              "<table border=\"1\" class=\"dataframe\">\n",
              "  <thead>\n",
              "    <tr style=\"text-align: right;\">\n",
              "      <th></th>\n",
              "      <th>Communication Resource</th>\n",
              "    </tr>\n",
              "  </thead>\n",
              "  <tbody>\n",
              "    <tr>\n",
              "      <th>0.0</th>\n",
              "      <td>0.000000</td>\n",
              "    </tr>\n",
              "    <tr>\n",
              "      <th>0.2</th>\n",
              "      <td>0.001577</td>\n",
              "    </tr>\n",
              "    <tr>\n",
              "      <th>0.4</th>\n",
              "      <td>0.002246</td>\n",
              "    </tr>\n",
              "    <tr>\n",
              "      <th>0.6</th>\n",
              "      <td>0.002516</td>\n",
              "    </tr>\n",
              "    <tr>\n",
              "      <th>0.8</th>\n",
              "      <td>0.002652</td>\n",
              "    </tr>\n",
              "    <tr>\n",
              "      <th>1.0</th>\n",
              "      <td>0.002736</td>\n",
              "    </tr>\n",
              "  </tbody>\n",
              "</table>\n",
              "</div>"
            ],
            "text/plain": [
              "     Communication Resource\n",
              "0.0                0.000000\n",
              "0.2                0.001577\n",
              "0.4                0.002246\n",
              "0.6                0.002516\n",
              "0.8                0.002652\n",
              "1.0                0.002736"
            ]
          },
          "metadata": {},
          "execution_count": 174
        }
      ]
    },
    {
      "cell_type": "code",
      "metadata": {
        "id": "3AVs8f_lO24T"
      },
      "source": [
        "df_mean3 = pd.DataFrame(np.mean(time_remote_samples,axis=1),columns=[\"Remote Processing Resource\"],index=index)"
      ],
      "execution_count": null,
      "outputs": []
    },
    {
      "cell_type": "code",
      "metadata": {
        "colab": {
          "base_uri": "https://localhost:8080/",
          "height": 235
        },
        "id": "nzYuWTMKO6KJ",
        "outputId": "c3350ba4-69da-4dc2-e7d3-7f4c1d06f798"
      },
      "source": [
        "df_mean3"
      ],
      "execution_count": null,
      "outputs": [
        {
          "output_type": "execute_result",
          "data": {
            "text/html": [
              "<div>\n",
              "<style scoped>\n",
              "    .dataframe tbody tr th:only-of-type {\n",
              "        vertical-align: middle;\n",
              "    }\n",
              "\n",
              "    .dataframe tbody tr th {\n",
              "        vertical-align: top;\n",
              "    }\n",
              "\n",
              "    .dataframe thead th {\n",
              "        text-align: right;\n",
              "    }\n",
              "</style>\n",
              "<table border=\"1\" class=\"dataframe\">\n",
              "  <thead>\n",
              "    <tr style=\"text-align: right;\">\n",
              "      <th></th>\n",
              "      <th>Remote Processing Resource</th>\n",
              "    </tr>\n",
              "  </thead>\n",
              "  <tbody>\n",
              "    <tr>\n",
              "      <th>0.0</th>\n",
              "      <td>0.000000e+00</td>\n",
              "    </tr>\n",
              "    <tr>\n",
              "      <th>0.2</th>\n",
              "      <td>3.359634e-07</td>\n",
              "    </tr>\n",
              "    <tr>\n",
              "      <th>0.4</th>\n",
              "      <td>7.114242e-07</td>\n",
              "    </tr>\n",
              "    <tr>\n",
              "      <th>0.6</th>\n",
              "      <td>1.000200e-06</td>\n",
              "    </tr>\n",
              "    <tr>\n",
              "      <th>0.8</th>\n",
              "      <td>6.371543e-07</td>\n",
              "    </tr>\n",
              "    <tr>\n",
              "      <th>1.0</th>\n",
              "      <td>2.222817e-07</td>\n",
              "    </tr>\n",
              "  </tbody>\n",
              "</table>\n",
              "</div>"
            ],
            "text/plain": [
              "     Remote Processing Resource\n",
              "0.0                0.000000e+00\n",
              "0.2                3.359634e-07\n",
              "0.4                7.114242e-07\n",
              "0.6                1.000200e-06\n",
              "0.8                6.371543e-07\n",
              "1.0                2.222817e-07"
            ]
          },
          "metadata": {},
          "execution_count": 176
        }
      ]
    },
    {
      "cell_type": "code",
      "metadata": {
        "id": "jkbRk4FLSPJ3"
      },
      "source": [
        "df_p = pd.DataFrame(np.array([0,0.2,0.4,0.6,0.8,1]), columns=[\"p\"])"
      ],
      "execution_count": null,
      "outputs": []
    },
    {
      "cell_type": "code",
      "metadata": {
        "id": "zqVGNQzgQ_CL"
      },
      "source": [
        "df_mean_time = pd.concat([df_mean1, df_mean2, df_mean3], axis=1)"
      ],
      "execution_count": null,
      "outputs": []
    },
    {
      "cell_type": "code",
      "metadata": {
        "colab": {
          "base_uri": "https://localhost:8080/",
          "height": 235
        },
        "id": "rJVuGcARRyzu",
        "outputId": "1c7a5aea-a089-42d6-f1ac-cc518458a12b"
      },
      "source": [
        "df_mean_time"
      ],
      "execution_count": null,
      "outputs": [
        {
          "output_type": "execute_result",
          "data": {
            "text/html": [
              "<div>\n",
              "<style scoped>\n",
              "    .dataframe tbody tr th:only-of-type {\n",
              "        vertical-align: middle;\n",
              "    }\n",
              "\n",
              "    .dataframe tbody tr th {\n",
              "        vertical-align: top;\n",
              "    }\n",
              "\n",
              "    .dataframe thead th {\n",
              "        text-align: right;\n",
              "    }\n",
              "</style>\n",
              "<table border=\"1\" class=\"dataframe\">\n",
              "  <thead>\n",
              "    <tr style=\"text-align: right;\">\n",
              "      <th></th>\n",
              "      <th>Local Processing Resource</th>\n",
              "      <th>Communication Resource</th>\n",
              "      <th>Remote Processing Resource</th>\n",
              "    </tr>\n",
              "  </thead>\n",
              "  <tbody>\n",
              "    <tr>\n",
              "      <th>0.0</th>\n",
              "      <td>0.002736</td>\n",
              "      <td>0.000000</td>\n",
              "      <td>0.000000e+00</td>\n",
              "    </tr>\n",
              "    <tr>\n",
              "      <th>0.2</th>\n",
              "      <td>0.002504</td>\n",
              "      <td>0.001577</td>\n",
              "      <td>3.359634e-07</td>\n",
              "    </tr>\n",
              "    <tr>\n",
              "      <th>0.4</th>\n",
              "      <td>0.002565</td>\n",
              "      <td>0.002246</td>\n",
              "      <td>7.114242e-07</td>\n",
              "    </tr>\n",
              "    <tr>\n",
              "      <th>0.6</th>\n",
              "      <td>0.002666</td>\n",
              "      <td>0.002516</td>\n",
              "      <td>1.000200e-06</td>\n",
              "    </tr>\n",
              "    <tr>\n",
              "      <th>0.8</th>\n",
              "      <td>0.002727</td>\n",
              "      <td>0.002652</td>\n",
              "      <td>6.371543e-07</td>\n",
              "    </tr>\n",
              "    <tr>\n",
              "      <th>1.0</th>\n",
              "      <td>0.002736</td>\n",
              "      <td>0.002736</td>\n",
              "      <td>2.222817e-07</td>\n",
              "    </tr>\n",
              "  </tbody>\n",
              "</table>\n",
              "</div>"
            ],
            "text/plain": [
              "     Local Processing Resource  ...  Remote Processing Resource\n",
              "0.0                   0.002736  ...                0.000000e+00\n",
              "0.2                   0.002504  ...                3.359634e-07\n",
              "0.4                   0.002565  ...                7.114242e-07\n",
              "0.6                   0.002666  ...                1.000200e-06\n",
              "0.8                   0.002727  ...                6.371543e-07\n",
              "1.0                   0.002736  ...                2.222817e-07\n",
              "\n",
              "[6 rows x 3 columns]"
            ]
          },
          "metadata": {},
          "execution_count": 179
        }
      ]
    },
    {
      "cell_type": "code",
      "metadata": {
        "colab": {
          "base_uri": "https://localhost:8080/",
          "height": 279
        },
        "id": "Kl22WeclSmVL",
        "outputId": "29d596a8-581c-4389-f4ff-3e847ca29121"
      },
      "source": [
        "ax = sns.lineplot(data=df_mean_time, err_style=\"bars\", ci=95)\n",
        "ax.set(xlabel = \"Offload Probability\", ylabel=\"Resource Utilization\")\n",
        "plt.show()"
      ],
      "execution_count": null,
      "outputs": [
        {
          "output_type": "display_data",
          "data": {
            "image/png": "[encoded data removed]",
            "text/plain": [
              "<Figure size 432x288 with 1 Axes>"
            ]
          },
          "metadata": {
            "needs_background": "light"
          }
        }
      ]
    },
    {
      "cell_type": "code",
      "metadata": {
        "id": "boiyl4_ySmtn"
      },
      "source": [
        ""
      ],
      "execution_count": null,
      "outputs": []
    },
    {
      "cell_type": "code",
      "metadata": {
        "id": "l_u-mPna1Kzq"
      },
      "source": [
        "#theoritical worst case for different ratios\n",
        "#todo\n",
        "bound_rho = []\n",
        "p=1\n",
        "for i in ratios:\n",
        "  deno = 1+sum(vgg16_compute_values_remote_expected)*link_rate*math.sqrt(i)/np.min(input_data_real[:len(input_data_real)-1])\n",
        "  bound_rho.append(1+(1-p)*in_ratio*i/deno)"
      ],
      "execution_count": null,
      "outputs": []
    },
    {
      "cell_type": "code",
      "metadata": {
        "id": "DF0_Qcd-Q6Rb"
      },
      "source": [
        ""
      ],
      "execution_count": null,
      "outputs": []
    },
    {
      "cell_type": "code",
      "metadata": {
        "colab": {
          "base_uri": "https://localhost:8080/"
        },
        "id": "ead3sDXi7Ves",
        "outputId": "a0deb1df-30db-4a4a-8f8d-3fadbd1b03a8"
      },
      "source": [
        "bound_rho"
      ],
      "execution_count": null,
      "outputs": [
        {
          "output_type": "execute_result",
          "data": {
            "text/plain": [
              "[1.0, 1.0, 1.0, 1.0, 1.0]"
            ]
          },
          "metadata": {},
          "execution_count": 250
        }
      ]
    },
    {
      "cell_type": "code",
      "metadata": {
        "id": "v5N9hMAn_ydZ"
      },
      "source": [
        "rhos = np.array(ratio_local_samples)"
      ],
      "execution_count": null,
      "outputs": []
    },
    {
      "cell_type": "code",
      "metadata": {
        "id": "BrImSOPLOzzM"
      },
      "source": [
        "rhos_indices = np.array([rhos[:,i,:] for i in range(4)])"
      ],
      "execution_count": null,
      "outputs": []
    },
    {
      "cell_type": "code",
      "metadata": {
        "colab": {
          "base_uri": "https://localhost:8080/"
        },
        "id": "E1b_4zs2O03H",
        "outputId": "2f536940-ed88-4ecb-bc21-0f90fc8edf7e"
      },
      "source": [
        "rhos_indices[0].shape"
      ],
      "execution_count": null,
      "outputs": [
        {
          "output_type": "execute_result",
          "data": {
            "text/plain": [
              "(5, 7000)"
            ]
          },
          "metadata": {},
          "execution_count": 253
        }
      ]
    },
    {
      "cell_type": "code",
      "metadata": {
        "id": "e2-lSx5K7hmZ"
      },
      "source": [
        "df_main = pd.DataFrame(columns = ['Average Competitive Ratio', 'Max Communication Latency Ratio', 'Average Slow-down Ratio'])\n",
        "# df_1 = pd.DataFrame(columns = ['Average Competitive Ratio', 'Max Communication Latency Ratio', 'Average Slow-down Ratio'])\n",
        "# df_2 = pd.DataFrame(columns = ['Average Competitive Ratio', 'Max Communication Latency Ratio', 'Average Slow-down Ratio'])\n",
        "# df_3 = pd.DataFrame(columns = ['Average Competitive Ratio', 'Max Communication Latency Ratio', 'Average Slow-down Ratio'])\n",
        "columns =['1.5x21.33', '2x21.33', '3x21.33', '4x21.33', '8x21.33']"
      ],
      "execution_count": null,
      "outputs": []
    },
    {
      "cell_type": "code",
      "metadata": {
        "id": "YGxzVHSZ7sLT"
      },
      "source": [
        "def populate(df):\n",
        "  for k in range(2):\n",
        "    for i in range(5):\n",
        "      for j in range(7000):\n",
        "        df.loc[len(df.index)] = [rhos_indices[k][i][j], columns[i], slow_down[k]]\n",
        "  return df"
      ],
      "execution_count": null,
      "outputs": []
    },
    {
      "cell_type": "code",
      "metadata": {
        "colab": {
          "base_uri": "https://localhost:8080/",
          "height": 374
        },
        "id": "UwnL8pNm7ue8",
        "outputId": "8a54b46e-7110-4466-8380-5b5fea06651a"
      },
      "source": [
        "populate(df_main)"
      ],
      "execution_count": null,
      "outputs": [
        {
          "output_type": "error",
          "ename": "KeyboardInterrupt",
          "evalue": "ignored",
          "traceback": [
            "\u001b[0;31m---------------------------------------------------------------------------\u001b[0m",
            "\u001b[0;31mKeyboardInterrupt\u001b[0m                         Traceback (most recent call last)",
            "\u001b[0;32m<ipython-input-256-280f0a22abc7>\u001b[0m in \u001b[0;36m<module>\u001b[0;34m()\u001b[0m\n\u001b[0;32m----> 1\u001b[0;31m \u001b[0mpopulate\u001b[0m\u001b[0;34m(\u001b[0m\u001b[0mdf_main\u001b[0m\u001b[0;34m)\u001b[0m\u001b[0;34m\u001b[0m\u001b[0;34m\u001b[0m\u001b[0m\n\u001b[0m",
            "\u001b[0;32m<ipython-input-255-a3980aa8e0eb>\u001b[0m in \u001b[0;36mpopulate\u001b[0;34m(df)\u001b[0m\n\u001b[1;32m      3\u001b[0m     \u001b[0;32mfor\u001b[0m \u001b[0mi\u001b[0m \u001b[0;32min\u001b[0m \u001b[0mrange\u001b[0m\u001b[0;34m(\u001b[0m\u001b[0;36m5\u001b[0m\u001b[0;34m)\u001b[0m\u001b[0;34m:\u001b[0m\u001b[0;34m\u001b[0m\u001b[0;34m\u001b[0m\u001b[0m\n\u001b[1;32m      4\u001b[0m       \u001b[0;32mfor\u001b[0m \u001b[0mj\u001b[0m \u001b[0;32min\u001b[0m \u001b[0mrange\u001b[0m\u001b[0;34m(\u001b[0m\u001b[0;36m7000\u001b[0m\u001b[0;34m)\u001b[0m\u001b[0;34m:\u001b[0m\u001b[0;34m\u001b[0m\u001b[0;34m\u001b[0m\u001b[0m\n\u001b[0;32m----> 5\u001b[0;31m         \u001b[0mdf\u001b[0m\u001b[0;34m.\u001b[0m\u001b[0mloc\u001b[0m\u001b[0;34m[\u001b[0m\u001b[0mlen\u001b[0m\u001b[0;34m(\u001b[0m\u001b[0mdf\u001b[0m\u001b[0;34m.\u001b[0m\u001b[0mindex\u001b[0m\u001b[0;34m)\u001b[0m\u001b[0;34m]\u001b[0m \u001b[0;34m=\u001b[0m \u001b[0;34m[\u001b[0m\u001b[0mrhos_indices\u001b[0m\u001b[0;34m[\u001b[0m\u001b[0mk\u001b[0m\u001b[0;34m]\u001b[0m\u001b[0;34m[\u001b[0m\u001b[0mi\u001b[0m\u001b[0;34m]\u001b[0m\u001b[0;34m[\u001b[0m\u001b[0mj\u001b[0m\u001b[0;34m]\u001b[0m\u001b[0;34m,\u001b[0m \u001b[0mcolumns\u001b[0m\u001b[0;34m[\u001b[0m\u001b[0mi\u001b[0m\u001b[0;34m]\u001b[0m\u001b[0;34m,\u001b[0m \u001b[0mslow_down\u001b[0m\u001b[0;34m[\u001b[0m\u001b[0mk\u001b[0m\u001b[0;34m]\u001b[0m\u001b[0;34m]\u001b[0m\u001b[0;34m\u001b[0m\u001b[0;34m\u001b[0m\u001b[0m\n\u001b[0m\u001b[1;32m      6\u001b[0m   \u001b[0;32mreturn\u001b[0m \u001b[0mdf\u001b[0m\u001b[0;34m\u001b[0m\u001b[0;34m\u001b[0m\u001b[0m\n",
            "\u001b[0;32m/usr/local/lib/python3.7/dist-packages/pandas/core/indexing.py\u001b[0m in \u001b[0;36m__setitem__\u001b[0;34m(self, key, value)\u001b[0m\n\u001b[1;32m    668\u001b[0m \u001b[0;34m\u001b[0m\u001b[0m\n\u001b[1;32m    669\u001b[0m         \u001b[0miloc\u001b[0m \u001b[0;34m=\u001b[0m \u001b[0mself\u001b[0m \u001b[0;32mif\u001b[0m \u001b[0mself\u001b[0m\u001b[0;34m.\u001b[0m\u001b[0mname\u001b[0m \u001b[0;34m==\u001b[0m \u001b[0;34m\"iloc\"\u001b[0m \u001b[0;32melse\u001b[0m \u001b[0mself\u001b[0m\u001b[0;34m.\u001b[0m\u001b[0mobj\u001b[0m\u001b[0;34m.\u001b[0m\u001b[0miloc\u001b[0m\u001b[0;34m\u001b[0m\u001b[0;34m\u001b[0m\u001b[0m\n\u001b[0;32m--> 670\u001b[0;31m         \u001b[0miloc\u001b[0m\u001b[0;34m.\u001b[0m\u001b[0m_setitem_with_indexer\u001b[0m\u001b[0;34m(\u001b[0m\u001b[0mindexer\u001b[0m\u001b[0;34m,\u001b[0m \u001b[0mvalue\u001b[0m\u001b[0;34m)\u001b[0m\u001b[0;34m\u001b[0m\u001b[0;34m\u001b[0m\u001b[0m\n\u001b[0m\u001b[1;32m    671\u001b[0m \u001b[0;34m\u001b[0m\u001b[0m\n\u001b[1;32m    672\u001b[0m     \u001b[0;32mdef\u001b[0m \u001b[0m_validate_key\u001b[0m\u001b[0;34m(\u001b[0m\u001b[0mself\u001b[0m\u001b[0;34m,\u001b[0m \u001b[0mkey\u001b[0m\u001b[0;34m,\u001b[0m \u001b[0maxis\u001b[0m\u001b[0;34m:\u001b[0m \u001b[0mint\u001b[0m\u001b[0;34m)\u001b[0m\u001b[0;34m:\u001b[0m\u001b[0;34m\u001b[0m\u001b[0;34m\u001b[0m\u001b[0m\n",
            "\u001b[0;32m/usr/local/lib/python3.7/dist-packages/pandas/core/indexing.py\u001b[0m in \u001b[0;36m_setitem_with_indexer\u001b[0;34m(self, indexer, value)\u001b[0m\n\u001b[1;32m   1540\u001b[0m \u001b[0;34m\u001b[0m\u001b[0m\n\u001b[1;32m   1541\u001b[0m         \u001b[0;31m# maybe partial set\u001b[0m\u001b[0;34m\u001b[0m\u001b[0;34m\u001b[0m\u001b[0;34m\u001b[0m\u001b[0m\n\u001b[0;32m-> 1542\u001b[0;31m         \u001b[0mtake_split_path\u001b[0m \u001b[0;34m=\u001b[0m \u001b[0mself\u001b[0m\u001b[0;34m.\u001b[0m\u001b[0mobj\u001b[0m\u001b[0;34m.\u001b[0m\u001b[0m_is_mixed_type\u001b[0m\u001b[0;34m\u001b[0m\u001b[0;34m\u001b[0m\u001b[0m\n\u001b[0m\u001b[1;32m   1543\u001b[0m \u001b[0;34m\u001b[0m\u001b[0m\n\u001b[1;32m   1544\u001b[0m         \u001b[0;31m# if there is only one block/type, still have to take split path\u001b[0m\u001b[0;34m\u001b[0m\u001b[0;34m\u001b[0m\u001b[0;34m\u001b[0m\u001b[0m\n",
            "\u001b[0;32m/usr/local/lib/python3.7/dist-packages/pandas/core/generic.py\u001b[0m in \u001b[0;36m_is_mixed_type\u001b[0;34m(self)\u001b[0m\n\u001b[1;32m   5241\u001b[0m     \u001b[0;32mdef\u001b[0m \u001b[0m_is_mixed_type\u001b[0m\u001b[0;34m(\u001b[0m\u001b[0mself\u001b[0m\u001b[0;34m)\u001b[0m \u001b[0;34m->\u001b[0m \u001b[0mbool_t\u001b[0m\u001b[0;34m:\u001b[0m\u001b[0;34m\u001b[0m\u001b[0;34m\u001b[0m\u001b[0m\n\u001b[1;32m   5242\u001b[0m         \u001b[0mf\u001b[0m \u001b[0;34m=\u001b[0m \u001b[0;32mlambda\u001b[0m\u001b[0;34m:\u001b[0m \u001b[0mself\u001b[0m\u001b[0;34m.\u001b[0m\u001b[0m_mgr\u001b[0m\u001b[0;34m.\u001b[0m\u001b[0mis_mixed_type\u001b[0m\u001b[0;34m\u001b[0m\u001b[0;34m\u001b[0m\u001b[0m\n\u001b[0;32m-> 5243\u001b[0;31m         \u001b[0;32mreturn\u001b[0m \u001b[0mself\u001b[0m\u001b[0;34m.\u001b[0m\u001b[0m_protect_consolidate\u001b[0m\u001b[0;34m(\u001b[0m\u001b[0mf\u001b[0m\u001b[0;34m)\u001b[0m\u001b[0;34m\u001b[0m\u001b[0;34m\u001b[0m\u001b[0m\n\u001b[0m\u001b[1;32m   5244\u001b[0m \u001b[0;34m\u001b[0m\u001b[0m\n\u001b[1;32m   5245\u001b[0m     \u001b[0;32mdef\u001b[0m \u001b[0m_check_inplace_setting\u001b[0m\u001b[0;34m(\u001b[0m\u001b[0mself\u001b[0m\u001b[0;34m,\u001b[0m \u001b[0mvalue\u001b[0m\u001b[0;34m)\u001b[0m \u001b[0;34m->\u001b[0m \u001b[0mbool_t\u001b[0m\u001b[0;34m:\u001b[0m\u001b[0;34m\u001b[0m\u001b[0;34m\u001b[0m\u001b[0m\n",
            "\u001b[0;32m/usr/local/lib/python3.7/dist-packages/pandas/core/generic.py\u001b[0m in \u001b[0;36m_protect_consolidate\u001b[0;34m(self, f)\u001b[0m\n\u001b[1;32m   5203\u001b[0m         \"\"\"\n\u001b[1;32m   5204\u001b[0m         \u001b[0mblocks_before\u001b[0m \u001b[0;34m=\u001b[0m \u001b[0mlen\u001b[0m\u001b[0;34m(\u001b[0m\u001b[0mself\u001b[0m\u001b[0;34m.\u001b[0m\u001b[0m_mgr\u001b[0m\u001b[0;34m.\u001b[0m\u001b[0mblocks\u001b[0m\u001b[0;34m)\u001b[0m\u001b[0;34m\u001b[0m\u001b[0;34m\u001b[0m\u001b[0m\n\u001b[0;32m-> 5205\u001b[0;31m         \u001b[0mresult\u001b[0m \u001b[0;34m=\u001b[0m \u001b[0mf\u001b[0m\u001b[0;34m(\u001b[0m\u001b[0;34m)\u001b[0m\u001b[0;34m\u001b[0m\u001b[0;34m\u001b[0m\u001b[0m\n\u001b[0m\u001b[1;32m   5206\u001b[0m         \u001b[0;32mif\u001b[0m \u001b[0mlen\u001b[0m\u001b[0;34m(\u001b[0m\u001b[0mself\u001b[0m\u001b[0;34m.\u001b[0m\u001b[0m_mgr\u001b[0m\u001b[0;34m.\u001b[0m\u001b[0mblocks\u001b[0m\u001b[0;34m)\u001b[0m \u001b[0;34m!=\u001b[0m \u001b[0mblocks_before\u001b[0m\u001b[0;34m:\u001b[0m\u001b[0;34m\u001b[0m\u001b[0;34m\u001b[0m\u001b[0m\n\u001b[1;32m   5207\u001b[0m             \u001b[0mself\u001b[0m\u001b[0;34m.\u001b[0m\u001b[0m_clear_item_cache\u001b[0m\u001b[0;34m(\u001b[0m\u001b[0;34m)\u001b[0m\u001b[0;34m\u001b[0m\u001b[0;34m\u001b[0m\u001b[0m\n",
            "\u001b[0;32m/usr/local/lib/python3.7/dist-packages/pandas/core/generic.py\u001b[0m in \u001b[0;36m<lambda>\u001b[0;34m()\u001b[0m\n\u001b[1;32m   5240\u001b[0m     \u001b[0;34m@\u001b[0m\u001b[0mproperty\u001b[0m\u001b[0;34m\u001b[0m\u001b[0;34m\u001b[0m\u001b[0m\n\u001b[1;32m   5241\u001b[0m     \u001b[0;32mdef\u001b[0m \u001b[0m_is_mixed_type\u001b[0m\u001b[0;34m(\u001b[0m\u001b[0mself\u001b[0m\u001b[0;34m)\u001b[0m \u001b[0;34m->\u001b[0m \u001b[0mbool_t\u001b[0m\u001b[0;34m:\u001b[0m\u001b[0;34m\u001b[0m\u001b[0;34m\u001b[0m\u001b[0m\n\u001b[0;32m-> 5242\u001b[0;31m         \u001b[0mf\u001b[0m \u001b[0;34m=\u001b[0m \u001b[0;32mlambda\u001b[0m\u001b[0;34m:\u001b[0m \u001b[0mself\u001b[0m\u001b[0;34m.\u001b[0m\u001b[0m_mgr\u001b[0m\u001b[0;34m.\u001b[0m\u001b[0mis_mixed_type\u001b[0m\u001b[0;34m\u001b[0m\u001b[0;34m\u001b[0m\u001b[0m\n\u001b[0m\u001b[1;32m   5243\u001b[0m         \u001b[0;32mreturn\u001b[0m \u001b[0mself\u001b[0m\u001b[0;34m.\u001b[0m\u001b[0m_protect_consolidate\u001b[0m\u001b[0;34m(\u001b[0m\u001b[0mf\u001b[0m\u001b[0;34m)\u001b[0m\u001b[0;34m\u001b[0m\u001b[0;34m\u001b[0m\u001b[0m\n\u001b[1;32m   5244\u001b[0m \u001b[0;34m\u001b[0m\u001b[0m\n",
            "\u001b[0;32m/usr/local/lib/python3.7/dist-packages/pandas/core/internals/managers.py\u001b[0m in \u001b[0;36mis_mixed_type\u001b[0;34m(self)\u001b[0m\n\u001b[1;32m    698\u001b[0m     \u001b[0;32mdef\u001b[0m \u001b[0mis_mixed_type\u001b[0m\u001b[0;34m(\u001b[0m\u001b[0mself\u001b[0m\u001b[0;34m)\u001b[0m \u001b[0;34m->\u001b[0m \u001b[0mbool\u001b[0m\u001b[0;34m:\u001b[0m\u001b[0;34m\u001b[0m\u001b[0;34m\u001b[0m\u001b[0m\n\u001b[1;32m    699\u001b[0m         \u001b[0;31m# Warning, consolidation needs to get checked upstairs\u001b[0m\u001b[0;34m\u001b[0m\u001b[0;34m\u001b[0m\u001b[0;34m\u001b[0m\u001b[0m\n\u001b[0;32m--> 700\u001b[0;31m         \u001b[0mself\u001b[0m\u001b[0;34m.\u001b[0m\u001b[0m_consolidate_inplace\u001b[0m\u001b[0;34m(\u001b[0m\u001b[0;34m)\u001b[0m\u001b[0;34m\u001b[0m\u001b[0;34m\u001b[0m\u001b[0m\n\u001b[0m\u001b[1;32m    701\u001b[0m         \u001b[0;32mreturn\u001b[0m \u001b[0mlen\u001b[0m\u001b[0;34m(\u001b[0m\u001b[0mself\u001b[0m\u001b[0;34m.\u001b[0m\u001b[0mblocks\u001b[0m\u001b[0;34m)\u001b[0m \u001b[0;34m>\u001b[0m \u001b[0;36m1\u001b[0m\u001b[0;34m\u001b[0m\u001b[0;34m\u001b[0m\u001b[0m\n\u001b[1;32m    702\u001b[0m \u001b[0;34m\u001b[0m\u001b[0m\n",
            "\u001b[0;32m/usr/local/lib/python3.7/dist-packages/pandas/core/internals/managers.py\u001b[0m in \u001b[0;36m_consolidate_inplace\u001b[0;34m(self)\u001b[0m\n\u001b[1;32m    986\u001b[0m     \u001b[0;32mdef\u001b[0m \u001b[0m_consolidate_inplace\u001b[0m\u001b[0;34m(\u001b[0m\u001b[0mself\u001b[0m\u001b[0;34m)\u001b[0m \u001b[0;34m->\u001b[0m \u001b[0;32mNone\u001b[0m\u001b[0;34m:\u001b[0m\u001b[0;34m\u001b[0m\u001b[0;34m\u001b[0m\u001b[0m\n\u001b[1;32m    987\u001b[0m         \u001b[0;32mif\u001b[0m \u001b[0;32mnot\u001b[0m \u001b[0mself\u001b[0m\u001b[0;34m.\u001b[0m\u001b[0mis_consolidated\u001b[0m\u001b[0;34m(\u001b[0m\u001b[0;34m)\u001b[0m\u001b[0;34m:\u001b[0m\u001b[0;34m\u001b[0m\u001b[0;34m\u001b[0m\u001b[0m\n\u001b[0;32m--> 988\u001b[0;31m             \u001b[0mself\u001b[0m\u001b[0;34m.\u001b[0m\u001b[0mblocks\u001b[0m \u001b[0;34m=\u001b[0m \u001b[0mtuple\u001b[0m\u001b[0;34m(\u001b[0m\u001b[0m_consolidate\u001b[0m\u001b[0;34m(\u001b[0m\u001b[0mself\u001b[0m\u001b[0;34m.\u001b[0m\u001b[0mblocks\u001b[0m\u001b[0;34m)\u001b[0m\u001b[0;34m)\u001b[0m\u001b[0;34m\u001b[0m\u001b[0;34m\u001b[0m\u001b[0m\n\u001b[0m\u001b[1;32m    989\u001b[0m             \u001b[0mself\u001b[0m\u001b[0;34m.\u001b[0m\u001b[0m_is_consolidated\u001b[0m \u001b[0;34m=\u001b[0m \u001b[0;32mTrue\u001b[0m\u001b[0;34m\u001b[0m\u001b[0;34m\u001b[0m\u001b[0m\n\u001b[1;32m    990\u001b[0m             \u001b[0mself\u001b[0m\u001b[0;34m.\u001b[0m\u001b[0m_known_consolidated\u001b[0m \u001b[0;34m=\u001b[0m \u001b[0;32mTrue\u001b[0m\u001b[0;34m\u001b[0m\u001b[0;34m\u001b[0m\u001b[0m\n",
            "\u001b[0;32m/usr/local/lib/python3.7/dist-packages/pandas/core/internals/managers.py\u001b[0m in \u001b[0;36m_consolidate\u001b[0;34m(blocks)\u001b[0m\n\u001b[1;32m   1907\u001b[0m     \u001b[0;32mfor\u001b[0m \u001b[0;34m(\u001b[0m\u001b[0m_can_consolidate\u001b[0m\u001b[0;34m,\u001b[0m \u001b[0mdtype\u001b[0m\u001b[0;34m)\u001b[0m\u001b[0;34m,\u001b[0m \u001b[0mgroup_blocks\u001b[0m \u001b[0;32min\u001b[0m \u001b[0mgrouper\u001b[0m\u001b[0;34m:\u001b[0m\u001b[0;34m\u001b[0m\u001b[0;34m\u001b[0m\u001b[0m\n\u001b[1;32m   1908\u001b[0m         merged_blocks = _merge_blocks(\n\u001b[0;32m-> 1909\u001b[0;31m             \u001b[0mlist\u001b[0m\u001b[0;34m(\u001b[0m\u001b[0mgroup_blocks\u001b[0m\u001b[0;34m)\u001b[0m\u001b[0;34m,\u001b[0m \u001b[0mdtype\u001b[0m\u001b[0;34m=\u001b[0m\u001b[0mdtype\u001b[0m\u001b[0;34m,\u001b[0m \u001b[0mcan_consolidate\u001b[0m\u001b[0;34m=\u001b[0m\u001b[0m_can_consolidate\u001b[0m\u001b[0;34m\u001b[0m\u001b[0;34m\u001b[0m\u001b[0m\n\u001b[0m\u001b[1;32m   1910\u001b[0m         )\n\u001b[1;32m   1911\u001b[0m         \u001b[0mnew_blocks\u001b[0m \u001b[0;34m=\u001b[0m \u001b[0m_extend_blocks\u001b[0m\u001b[0;34m(\u001b[0m\u001b[0mmerged_blocks\u001b[0m\u001b[0;34m,\u001b[0m \u001b[0mnew_blocks\u001b[0m\u001b[0;34m)\u001b[0m\u001b[0;34m\u001b[0m\u001b[0;34m\u001b[0m\u001b[0m\n",
            "\u001b[0;32m/usr/local/lib/python3.7/dist-packages/pandas/core/internals/managers.py\u001b[0m in \u001b[0;36m_merge_blocks\u001b[0;34m(blocks, dtype, can_consolidate)\u001b[0m\n\u001b[1;32m   1929\u001b[0m         \u001b[0;31m# combination of those slices is a slice, too.\u001b[0m\u001b[0;34m\u001b[0m\u001b[0;34m\u001b[0m\u001b[0;34m\u001b[0m\u001b[0m\n\u001b[1;32m   1930\u001b[0m         \u001b[0mnew_mgr_locs\u001b[0m \u001b[0;34m=\u001b[0m \u001b[0mnp\u001b[0m\u001b[0;34m.\u001b[0m\u001b[0mconcatenate\u001b[0m\u001b[0;34m(\u001b[0m\u001b[0;34m[\u001b[0m\u001b[0mb\u001b[0m\u001b[0;34m.\u001b[0m\u001b[0mmgr_locs\u001b[0m\u001b[0;34m.\u001b[0m\u001b[0mas_array\u001b[0m \u001b[0;32mfor\u001b[0m \u001b[0mb\u001b[0m \u001b[0;32min\u001b[0m \u001b[0mblocks\u001b[0m\u001b[0;34m]\u001b[0m\u001b[0;34m)\u001b[0m\u001b[0;34m\u001b[0m\u001b[0;34m\u001b[0m\u001b[0m\n\u001b[0;32m-> 1931\u001b[0;31m         \u001b[0mnew_values\u001b[0m \u001b[0;34m=\u001b[0m \u001b[0mnp\u001b[0m\u001b[0;34m.\u001b[0m\u001b[0mvstack\u001b[0m\u001b[0;34m(\u001b[0m\u001b[0;34m[\u001b[0m\u001b[0mb\u001b[0m\u001b[0;34m.\u001b[0m\u001b[0mvalues\u001b[0m \u001b[0;32mfor\u001b[0m \u001b[0mb\u001b[0m \u001b[0;32min\u001b[0m \u001b[0mblocks\u001b[0m\u001b[0;34m]\u001b[0m\u001b[0;34m)\u001b[0m\u001b[0;34m\u001b[0m\u001b[0;34m\u001b[0m\u001b[0m\n\u001b[0m\u001b[1;32m   1932\u001b[0m \u001b[0;34m\u001b[0m\u001b[0m\n\u001b[1;32m   1933\u001b[0m         \u001b[0margsort\u001b[0m \u001b[0;34m=\u001b[0m \u001b[0mnp\u001b[0m\u001b[0;34m.\u001b[0m\u001b[0margsort\u001b[0m\u001b[0;34m(\u001b[0m\u001b[0mnew_mgr_locs\u001b[0m\u001b[0;34m)\u001b[0m\u001b[0;34m\u001b[0m\u001b[0;34m\u001b[0m\u001b[0m\n",
            "\u001b[0;32m<__array_function__ internals>\u001b[0m in \u001b[0;36mvstack\u001b[0;34m(*args, **kwargs)\u001b[0m\n",
            "\u001b[0;32m/usr/local/lib/python3.7/dist-packages/numpy/core/shape_base.py\u001b[0m in \u001b[0;36mvstack\u001b[0;34m(tup)\u001b[0m\n\u001b[1;32m    281\u001b[0m     \u001b[0;32mif\u001b[0m \u001b[0;32mnot\u001b[0m \u001b[0misinstance\u001b[0m\u001b[0;34m(\u001b[0m\u001b[0marrs\u001b[0m\u001b[0;34m,\u001b[0m \u001b[0mlist\u001b[0m\u001b[0;34m)\u001b[0m\u001b[0;34m:\u001b[0m\u001b[0;34m\u001b[0m\u001b[0;34m\u001b[0m\u001b[0m\n\u001b[1;32m    282\u001b[0m         \u001b[0marrs\u001b[0m \u001b[0;34m=\u001b[0m \u001b[0;34m[\u001b[0m\u001b[0marrs\u001b[0m\u001b[0;34m]\u001b[0m\u001b[0;34m\u001b[0m\u001b[0;34m\u001b[0m\u001b[0m\n\u001b[0;32m--> 283\u001b[0;31m     \u001b[0;32mreturn\u001b[0m \u001b[0m_nx\u001b[0m\u001b[0;34m.\u001b[0m\u001b[0mconcatenate\u001b[0m\u001b[0;34m(\u001b[0m\u001b[0marrs\u001b[0m\u001b[0;34m,\u001b[0m \u001b[0;36m0\u001b[0m\u001b[0;34m)\u001b[0m\u001b[0;34m\u001b[0m\u001b[0;34m\u001b[0m\u001b[0m\n\u001b[0m\u001b[1;32m    284\u001b[0m \u001b[0;34m\u001b[0m\u001b[0m\n\u001b[1;32m    285\u001b[0m \u001b[0;34m\u001b[0m\u001b[0m\n",
            "\u001b[0;32m<__array_function__ internals>\u001b[0m in \u001b[0;36mconcatenate\u001b[0;34m(*args, **kwargs)\u001b[0m\n",
            "\u001b[0;31mKeyboardInterrupt\u001b[0m: "
          ]
        }
      ]
    },
    {
      "cell_type": "code",
      "metadata": {
        "id": "aLkdoCXL7zAf"
      },
      "source": [
        "df_worst = pd.DataFrame(np.array(bound_rho), columns=[\"bound\"])"
      ],
      "execution_count": null,
      "outputs": []
    },
    {
      "cell_type": "code",
      "metadata": {
        "colab": {
          "base_uri": "https://localhost:8080/",
          "height": 296
        },
        "id": "CxXcVGgGBqIM",
        "outputId": "52c7834a-ec0e-4848-f16c-d89d30c78403"
      },
      "source": [
        "sns.lineplot(x=\"Max Communication Latency Ratio\",y=\"Average Competitive Ratio\", hue=\"Average Slow-down Ratio\", data=df_main, err_style=\"bars\", ci=95)\n",
        "sns.lineplot(data = df_worst )"
      ],
      "execution_count": null,
      "outputs": [
        {
          "output_type": "execute_result",
          "data": {
            "text/plain": [
              "<matplotlib.axes._subplots.AxesSubplot at 0x7fbf16c76b10>"
            ]
          },
          "metadata": {
            "tags": []
          },
          "execution_count": 47
        },
        {
          "output_type": "display_data",
          "data": {
            "image/png": "[encoded data removed]",
            "text/plain": [
              "<Figure size 432x288 with 1 Axes>"
            ]
          },
          "metadata": {
            "tags": [],
            "needs_background": "light"
          }
        }
      ]
    },
    {
      "cell_type": "code",
      "metadata": {
        "id": "MeOP5vMoB4ub"
      },
      "source": [
        "def populate1(df,k):\n",
        "  for i in range(5):\n",
        "    for j in range(7000):\n",
        "      df.loc[len(df.index)] = [rhos_indices[k][i][j], columns[i]]\n",
        "  return df"
      ],
      "execution_count": null,
      "outputs": []
    },
    {
      "cell_type": "code",
      "metadata": {
        "id": "XTJi47_GBrcQ"
      },
      "source": [
        "df_0 = pd.DataFrame(columns = ['Average Competitive Ratio', 'Max Communication Latency Ratio'])\n",
        "df_1 = pd.DataFrame(columns = ['Average Competitive Ratio', 'Max Communication Latency Ratio'])\n",
        "df_2 = pd.DataFrame(columns = ['Average Competitive Ratio', 'Max Communication Latency Ratio'])\n",
        "df_3 = pd.DataFrame(columns = ['Average Competitive Ratio', 'Max Communication Latency Ratio'])\n",
        "columns =['1.5x21.33', '2x21.33', '3x21.33', '4x21.33', '8x21.33']"
      ],
      "execution_count": null,
      "outputs": []
    },
    {
      "cell_type": "code",
      "metadata": {
        "colab": {
          "base_uri": "https://localhost:8080/",
          "height": 419
        },
        "id": "Nibmx9qwCJTM",
        "outputId": "7232d47a-9abc-4bdd-9b5b-34bd665eadfb"
      },
      "source": [
        "populate1(df_0,0)\n",
        "populate1(df_1,1)\n",
        "populate1(df_2,2)\n",
        "populate1(df_3,3)"
      ],
      "execution_count": null,
      "outputs": [
        {
          "output_type": "execute_result",
          "data": {
            "text/html": [
              "<div>\n",
              "<style scoped>\n",
              "    .dataframe tbody tr th:only-of-type {\n",
              "        vertical-align: middle;\n",
              "    }\n",
              "\n",
              "    .dataframe tbody tr th {\n",
              "        vertical-align: top;\n",
              "    }\n",
              "\n",
              "    .dataframe thead th {\n",
              "        text-align: right;\n",
              "    }\n",
              "</style>\n",
              "<table border=\"1\" class=\"dataframe\">\n",
              "  <thead>\n",
              "    <tr style=\"text-align: right;\">\n",
              "      <th></th>\n",
              "      <th>Average Competitive Ratio</th>\n",
              "      <th>Max Communication Latency Ratio</th>\n",
              "    </tr>\n",
              "  </thead>\n",
              "  <tbody>\n",
              "    <tr>\n",
              "      <th>0</th>\n",
              "      <td>12.639690</td>\n",
              "      <td>1.5x21.33</td>\n",
              "    </tr>\n",
              "    <tr>\n",
              "      <th>1</th>\n",
              "      <td>6.360479</td>\n",
              "      <td>1.5x21.33</td>\n",
              "    </tr>\n",
              "    <tr>\n",
              "      <th>2</th>\n",
              "      <td>10.682490</td>\n",
              "      <td>1.5x21.33</td>\n",
              "    </tr>\n",
              "    <tr>\n",
              "      <th>3</th>\n",
              "      <td>11.768753</td>\n",
              "      <td>1.5x21.33</td>\n",
              "    </tr>\n",
              "    <tr>\n",
              "      <th>4</th>\n",
              "      <td>10.977571</td>\n",
              "      <td>1.5x21.33</td>\n",
              "    </tr>\n",
              "    <tr>\n",
              "      <th>...</th>\n",
              "      <td>...</td>\n",
              "      <td>...</td>\n",
              "    </tr>\n",
              "    <tr>\n",
              "      <th>34995</th>\n",
              "      <td>6.704312</td>\n",
              "      <td>8x21.33</td>\n",
              "    </tr>\n",
              "    <tr>\n",
              "      <th>34996</th>\n",
              "      <td>3.308726</td>\n",
              "      <td>8x21.33</td>\n",
              "    </tr>\n",
              "    <tr>\n",
              "      <th>34997</th>\n",
              "      <td>4.565913</td>\n",
              "      <td>8x21.33</td>\n",
              "    </tr>\n",
              "    <tr>\n",
              "      <th>34998</th>\n",
              "      <td>1.118576</td>\n",
              "      <td>8x21.33</td>\n",
              "    </tr>\n",
              "    <tr>\n",
              "      <th>34999</th>\n",
              "      <td>5.852827</td>\n",
              "      <td>8x21.33</td>\n",
              "    </tr>\n",
              "  </tbody>\n",
              "</table>\n",
              "<p>35000 rows × 2 columns</p>\n",
              "</div>"
            ],
            "text/plain": [
              "       Average Competitive Ratio Max Communication Latency Ratio\n",
              "0                      12.639690                       1.5x21.33\n",
              "1                       6.360479                       1.5x21.33\n",
              "2                      10.682490                       1.5x21.33\n",
              "3                      11.768753                       1.5x21.33\n",
              "4                      10.977571                       1.5x21.33\n",
              "...                          ...                             ...\n",
              "34995                   6.704312                         8x21.33\n",
              "34996                   3.308726                         8x21.33\n",
              "34997                   4.565913                         8x21.33\n",
              "34998                   1.118576                         8x21.33\n",
              "34999                   5.852827                         8x21.33\n",
              "\n",
              "[35000 rows x 2 columns]"
            ]
          },
          "metadata": {
            "tags": []
          },
          "execution_count": 52
        }
      ]
    },
    {
      "cell_type": "code",
      "metadata": {
        "colab": {
          "base_uri": "https://localhost:8080/",
          "height": 296
        },
        "id": "iepPKWTcCUEq",
        "outputId": "4cbfc11f-a77e-46bf-cb7f-aa221113dfc8"
      },
      "source": [
        "sns.lineplot(x=\"Max Communication Latency Ratio\",y=\"Average Competitive Ratio\", data=df_0, err_style=\"bars\", ci=95)\n"
      ],
      "execution_count": null,
      "outputs": [
        {
          "output_type": "execute_result",
          "data": {
            "text/plain": [
              "<matplotlib.axes._subplots.AxesSubplot at 0x7fbf16bde990>"
            ]
          },
          "metadata": {
            "tags": []
          },
          "execution_count": 53
        },
        {
          "output_type": "display_data",
          "data": {
            "image/png": "[encoded data removed]",
            "text/plain": [
              "<Figure size 432x288 with 1 Axes>"
            ]
          },
          "metadata": {
            "tags": [],
            "needs_background": "light"
          }
        }
      ]
    },
    {
      "cell_type": "code",
      "metadata": {
        "colab": {
          "base_uri": "https://localhost:8080/",
          "height": 296
        },
        "id": "Dd5lbmJcFHON",
        "outputId": "1fb038bb-6474-4193-9bfe-2c0a39ab3a70"
      },
      "source": [
        "sns.lineplot(x=\"Max Communication Latency Ratio\",y=\"Average Competitive Ratio\", data=df_1, err_style=\"bars\", ci=95)\n"
      ],
      "execution_count": null,
      "outputs": [
        {
          "output_type": "execute_result",
          "data": {
            "text/plain": [
              "<matplotlib.axes._subplots.AxesSubplot at 0x7fbf16a86750>"
            ]
          },
          "metadata": {
            "tags": []
          },
          "execution_count": 54
        },
        {
          "output_type": "display_data",
          "data": {
            "image/png": "[encoded data removed]",
            "text/plain": [
              "<Figure size 432x288 with 1 Axes>"
            ]
          },
          "metadata": {
            "tags": [],
            "needs_background": "light"
          }
        }
      ]
    },
    {
      "cell_type": "code",
      "metadata": {
        "colab": {
          "base_uri": "https://localhost:8080/",
          "height": 296
        },
        "id": "ytkpzeGKFKPQ",
        "outputId": "060f8ccc-b86a-49b4-fe4b-9429625f7ff6"
      },
      "source": [
        "sns.lineplot(x=\"Max Communication Latency Ratio\",y=\"Average Competitive Ratio\", data=df_2, err_style=\"bars\", ci=95)\n"
      ],
      "execution_count": null,
      "outputs": [
        {
          "output_type": "execute_result",
          "data": {
            "text/plain": [
              "<matplotlib.axes._subplots.AxesSubplot at 0x7fbf186152d0>"
            ]
          },
          "metadata": {
            "tags": []
          },
          "execution_count": 55
        },
        {
          "output_type": "display_data",
          "data": {
            "image/png": "[encoded data removed]",
            "text/plain": [
              "<Figure size 432x288 with 1 Axes>"
            ]
          },
          "metadata": {
            "tags": [],
            "needs_background": "light"
          }
        }
      ]
    },
    {
      "cell_type": "code",
      "metadata": {
        "colab": {
          "base_uri": "https://localhost:8080/",
          "height": 296
        },
        "id": "zEnhvwXoFLsy",
        "outputId": "76d205dd-fb13-40d7-b0ab-1749e35f8dcf"
      },
      "source": [
        "sns.lineplot(x=\"Max Communication Latency Ratio\",y=\"Average Competitive Ratio\", data=df_3, err_style=\"bars\", ci=95)\n"
      ],
      "execution_count": null,
      "outputs": [
        {
          "output_type": "execute_result",
          "data": {
            "text/plain": [
              "<matplotlib.axes._subplots.AxesSubplot at 0x7fbf16a240d0>"
            ]
          },
          "metadata": {
            "tags": []
          },
          "execution_count": 56
        },
        {
          "output_type": "display_data",
          "data": {
            "image/png": "[encoded data removed]",
            "text/plain": [
              "<Figure size 432x288 with 1 Axes>"
            ]
          },
          "metadata": {
            "tags": [],
            "needs_background": "light"
          }
        }
      ]
    },
    {
      "cell_type": "code",
      "metadata": {
        "id": "jTsi9CTVFOND"
      },
      "source": [
        ""
      ],
      "execution_count": null,
      "outputs": []
    }
  ]
}